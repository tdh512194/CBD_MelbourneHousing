{
 "cells": [
  {
   "cell_type": "code",
   "execution_count": 1,
   "metadata": {},
   "outputs": [],
   "source": [
    "import pandas as pd\n",
    "import numpy as np"
   ]
  },
  {
   "cell_type": "code",
   "execution_count": 2,
   "metadata": {},
   "outputs": [
    {
     "data": {
      "text/html": [
       "<div>\n",
       "<style scoped>\n",
       "    .dataframe tbody tr th:only-of-type {\n",
       "        vertical-align: middle;\n",
       "    }\n",
       "\n",
       "    .dataframe tbody tr th {\n",
       "        vertical-align: top;\n",
       "    }\n",
       "\n",
       "    .dataframe thead th {\n",
       "        text-align: right;\n",
       "    }\n",
       "</style>\n",
       "<table border=\"1\" class=\"dataframe\">\n",
       "  <thead>\n",
       "    <tr style=\"text-align: right;\">\n",
       "      <th></th>\n",
       "      <th>Suburb</th>\n",
       "      <th>Address</th>\n",
       "      <th>Rooms</th>\n",
       "      <th>Type</th>\n",
       "      <th>Price</th>\n",
       "      <th>Method</th>\n",
       "      <th>SellerG</th>\n",
       "      <th>Date</th>\n",
       "      <th>Distance</th>\n",
       "      <th>Postcode</th>\n",
       "      <th>Bedroom2</th>\n",
       "      <th>Bathroom</th>\n",
       "      <th>Car</th>\n",
       "      <th>Landsize</th>\n",
       "      <th>BuildingArea</th>\n",
       "      <th>YearBuilt</th>\n",
       "      <th>CouncilArea</th>\n",
       "      <th>Lattitude</th>\n",
       "      <th>Longtitude</th>\n",
       "      <th>Regionname</th>\n",
       "      <th>Propertycount</th>\n",
       "    </tr>\n",
       "  </thead>\n",
       "  <tbody>\n",
       "    <tr>\n",
       "      <th>0</th>\n",
       "      <td>Abbotsford</td>\n",
       "      <td>68 Studley St</td>\n",
       "      <td>2</td>\n",
       "      <td>h</td>\n",
       "      <td>NaN</td>\n",
       "      <td>SS</td>\n",
       "      <td>Jellis</td>\n",
       "      <td>3/09/2016</td>\n",
       "      <td>2.5</td>\n",
       "      <td>3067.0</td>\n",
       "      <td>2.0</td>\n",
       "      <td>1.0</td>\n",
       "      <td>1.0</td>\n",
       "      <td>126.0</td>\n",
       "      <td>NaN</td>\n",
       "      <td>NaN</td>\n",
       "      <td>Yarra City Council</td>\n",
       "      <td>-37.8014</td>\n",
       "      <td>144.9958</td>\n",
       "      <td>Northern Metropolitan</td>\n",
       "      <td>4019.0</td>\n",
       "    </tr>\n",
       "    <tr>\n",
       "      <th>1</th>\n",
       "      <td>Abbotsford</td>\n",
       "      <td>85 Turner St</td>\n",
       "      <td>2</td>\n",
       "      <td>h</td>\n",
       "      <td>1480000.0</td>\n",
       "      <td>S</td>\n",
       "      <td>Biggin</td>\n",
       "      <td>3/12/2016</td>\n",
       "      <td>2.5</td>\n",
       "      <td>3067.0</td>\n",
       "      <td>2.0</td>\n",
       "      <td>1.0</td>\n",
       "      <td>1.0</td>\n",
       "      <td>202.0</td>\n",
       "      <td>NaN</td>\n",
       "      <td>NaN</td>\n",
       "      <td>Yarra City Council</td>\n",
       "      <td>-37.7996</td>\n",
       "      <td>144.9984</td>\n",
       "      <td>Northern Metropolitan</td>\n",
       "      <td>4019.0</td>\n",
       "    </tr>\n",
       "    <tr>\n",
       "      <th>2</th>\n",
       "      <td>Abbotsford</td>\n",
       "      <td>25 Bloomburg St</td>\n",
       "      <td>2</td>\n",
       "      <td>h</td>\n",
       "      <td>1035000.0</td>\n",
       "      <td>S</td>\n",
       "      <td>Biggin</td>\n",
       "      <td>4/02/2016</td>\n",
       "      <td>2.5</td>\n",
       "      <td>3067.0</td>\n",
       "      <td>2.0</td>\n",
       "      <td>1.0</td>\n",
       "      <td>0.0</td>\n",
       "      <td>156.0</td>\n",
       "      <td>79.0</td>\n",
       "      <td>1900.0</td>\n",
       "      <td>Yarra City Council</td>\n",
       "      <td>-37.8079</td>\n",
       "      <td>144.9934</td>\n",
       "      <td>Northern Metropolitan</td>\n",
       "      <td>4019.0</td>\n",
       "    </tr>\n",
       "    <tr>\n",
       "      <th>3</th>\n",
       "      <td>Abbotsford</td>\n",
       "      <td>18/659 Victoria St</td>\n",
       "      <td>3</td>\n",
       "      <td>u</td>\n",
       "      <td>NaN</td>\n",
       "      <td>VB</td>\n",
       "      <td>Rounds</td>\n",
       "      <td>4/02/2016</td>\n",
       "      <td>2.5</td>\n",
       "      <td>3067.0</td>\n",
       "      <td>3.0</td>\n",
       "      <td>2.0</td>\n",
       "      <td>1.0</td>\n",
       "      <td>0.0</td>\n",
       "      <td>NaN</td>\n",
       "      <td>NaN</td>\n",
       "      <td>Yarra City Council</td>\n",
       "      <td>-37.8114</td>\n",
       "      <td>145.0116</td>\n",
       "      <td>Northern Metropolitan</td>\n",
       "      <td>4019.0</td>\n",
       "    </tr>\n",
       "    <tr>\n",
       "      <th>4</th>\n",
       "      <td>Abbotsford</td>\n",
       "      <td>5 Charles St</td>\n",
       "      <td>3</td>\n",
       "      <td>h</td>\n",
       "      <td>1465000.0</td>\n",
       "      <td>SP</td>\n",
       "      <td>Biggin</td>\n",
       "      <td>4/03/2017</td>\n",
       "      <td>2.5</td>\n",
       "      <td>3067.0</td>\n",
       "      <td>3.0</td>\n",
       "      <td>2.0</td>\n",
       "      <td>0.0</td>\n",
       "      <td>134.0</td>\n",
       "      <td>150.0</td>\n",
       "      <td>1900.0</td>\n",
       "      <td>Yarra City Council</td>\n",
       "      <td>-37.8093</td>\n",
       "      <td>144.9944</td>\n",
       "      <td>Northern Metropolitan</td>\n",
       "      <td>4019.0</td>\n",
       "    </tr>\n",
       "  </tbody>\n",
       "</table>\n",
       "</div>"
      ],
      "text/plain": [
       "       Suburb             Address  Rooms Type      Price Method SellerG  \\\n",
       "0  Abbotsford       68 Studley St      2    h        NaN     SS  Jellis   \n",
       "1  Abbotsford        85 Turner St      2    h  1480000.0      S  Biggin   \n",
       "2  Abbotsford     25 Bloomburg St      2    h  1035000.0      S  Biggin   \n",
       "3  Abbotsford  18/659 Victoria St      3    u        NaN     VB  Rounds   \n",
       "4  Abbotsford        5 Charles St      3    h  1465000.0     SP  Biggin   \n",
       "\n",
       "        Date  Distance  Postcode  Bedroom2  Bathroom  Car  Landsize  \\\n",
       "0  3/09/2016       2.5    3067.0       2.0       1.0  1.0     126.0   \n",
       "1  3/12/2016       2.5    3067.0       2.0       1.0  1.0     202.0   \n",
       "2  4/02/2016       2.5    3067.0       2.0       1.0  0.0     156.0   \n",
       "3  4/02/2016       2.5    3067.0       3.0       2.0  1.0       0.0   \n",
       "4  4/03/2017       2.5    3067.0       3.0       2.0  0.0     134.0   \n",
       "\n",
       "   BuildingArea  YearBuilt         CouncilArea  Lattitude  Longtitude  \\\n",
       "0           NaN        NaN  Yarra City Council   -37.8014    144.9958   \n",
       "1           NaN        NaN  Yarra City Council   -37.7996    144.9984   \n",
       "2          79.0     1900.0  Yarra City Council   -37.8079    144.9934   \n",
       "3           NaN        NaN  Yarra City Council   -37.8114    145.0116   \n",
       "4         150.0     1900.0  Yarra City Council   -37.8093    144.9944   \n",
       "\n",
       "              Regionname  Propertycount  \n",
       "0  Northern Metropolitan         4019.0  \n",
       "1  Northern Metropolitan         4019.0  \n",
       "2  Northern Metropolitan         4019.0  \n",
       "3  Northern Metropolitan         4019.0  \n",
       "4  Northern Metropolitan         4019.0  "
      ]
     },
     "execution_count": 2,
     "metadata": {},
     "output_type": "execute_result"
    }
   ],
   "source": [
    "data = pd.read_csv('data.csv')\n",
    "pd.set_option('display.max_columns', None) # display all columns\n",
    "data.head(5)"
   ]
  },
  {
   "cell_type": "code",
   "execution_count": 3,
   "metadata": {},
   "outputs": [
    {
     "data": {
      "text/html": [
       "<div>\n",
       "<style scoped>\n",
       "    .dataframe tbody tr th:only-of-type {\n",
       "        vertical-align: middle;\n",
       "    }\n",
       "\n",
       "    .dataframe tbody tr th {\n",
       "        vertical-align: top;\n",
       "    }\n",
       "\n",
       "    .dataframe thead th {\n",
       "        text-align: right;\n",
       "    }\n",
       "</style>\n",
       "<table border=\"1\" class=\"dataframe\">\n",
       "  <thead>\n",
       "    <tr style=\"text-align: right;\">\n",
       "      <th></th>\n",
       "      <th>count</th>\n",
       "      <th>unique</th>\n",
       "      <th>top</th>\n",
       "      <th>freq</th>\n",
       "      <th>mean</th>\n",
       "      <th>std</th>\n",
       "      <th>min</th>\n",
       "      <th>25%</th>\n",
       "      <th>50%</th>\n",
       "      <th>75%</th>\n",
       "      <th>max</th>\n",
       "    </tr>\n",
       "  </thead>\n",
       "  <tbody>\n",
       "    <tr>\n",
       "      <th>Suburb</th>\n",
       "      <td>34857</td>\n",
       "      <td>351</td>\n",
       "      <td>Reservoir</td>\n",
       "      <td>844</td>\n",
       "      <td>NaN</td>\n",
       "      <td>NaN</td>\n",
       "      <td>NaN</td>\n",
       "      <td>NaN</td>\n",
       "      <td>NaN</td>\n",
       "      <td>NaN</td>\n",
       "      <td>NaN</td>\n",
       "    </tr>\n",
       "    <tr>\n",
       "      <th>Address</th>\n",
       "      <td>34857</td>\n",
       "      <td>34009</td>\n",
       "      <td>5 Charles St</td>\n",
       "      <td>6</td>\n",
       "      <td>NaN</td>\n",
       "      <td>NaN</td>\n",
       "      <td>NaN</td>\n",
       "      <td>NaN</td>\n",
       "      <td>NaN</td>\n",
       "      <td>NaN</td>\n",
       "      <td>NaN</td>\n",
       "    </tr>\n",
       "    <tr>\n",
       "      <th>Rooms</th>\n",
       "      <td>34857</td>\n",
       "      <td>NaN</td>\n",
       "      <td>NaN</td>\n",
       "      <td>NaN</td>\n",
       "      <td>3.03101</td>\n",
       "      <td>0.969933</td>\n",
       "      <td>1</td>\n",
       "      <td>2</td>\n",
       "      <td>3</td>\n",
       "      <td>4</td>\n",
       "      <td>16</td>\n",
       "    </tr>\n",
       "    <tr>\n",
       "      <th>Type</th>\n",
       "      <td>34857</td>\n",
       "      <td>3</td>\n",
       "      <td>h</td>\n",
       "      <td>23980</td>\n",
       "      <td>NaN</td>\n",
       "      <td>NaN</td>\n",
       "      <td>NaN</td>\n",
       "      <td>NaN</td>\n",
       "      <td>NaN</td>\n",
       "      <td>NaN</td>\n",
       "      <td>NaN</td>\n",
       "    </tr>\n",
       "    <tr>\n",
       "      <th>Price</th>\n",
       "      <td>27247</td>\n",
       "      <td>NaN</td>\n",
       "      <td>NaN</td>\n",
       "      <td>NaN</td>\n",
       "      <td>1.05017e+06</td>\n",
       "      <td>641467</td>\n",
       "      <td>85000</td>\n",
       "      <td>635000</td>\n",
       "      <td>870000</td>\n",
       "      <td>1.295e+06</td>\n",
       "      <td>1.12e+07</td>\n",
       "    </tr>\n",
       "    <tr>\n",
       "      <th>Method</th>\n",
       "      <td>34857</td>\n",
       "      <td>9</td>\n",
       "      <td>S</td>\n",
       "      <td>19744</td>\n",
       "      <td>NaN</td>\n",
       "      <td>NaN</td>\n",
       "      <td>NaN</td>\n",
       "      <td>NaN</td>\n",
       "      <td>NaN</td>\n",
       "      <td>NaN</td>\n",
       "      <td>NaN</td>\n",
       "    </tr>\n",
       "    <tr>\n",
       "      <th>SellerG</th>\n",
       "      <td>34857</td>\n",
       "      <td>388</td>\n",
       "      <td>Jellis</td>\n",
       "      <td>3359</td>\n",
       "      <td>NaN</td>\n",
       "      <td>NaN</td>\n",
       "      <td>NaN</td>\n",
       "      <td>NaN</td>\n",
       "      <td>NaN</td>\n",
       "      <td>NaN</td>\n",
       "      <td>NaN</td>\n",
       "    </tr>\n",
       "    <tr>\n",
       "      <th>Date</th>\n",
       "      <td>34857</td>\n",
       "      <td>78</td>\n",
       "      <td>28/10/2017</td>\n",
       "      <td>1119</td>\n",
       "      <td>NaN</td>\n",
       "      <td>NaN</td>\n",
       "      <td>NaN</td>\n",
       "      <td>NaN</td>\n",
       "      <td>NaN</td>\n",
       "      <td>NaN</td>\n",
       "      <td>NaN</td>\n",
       "    </tr>\n",
       "    <tr>\n",
       "      <th>Distance</th>\n",
       "      <td>34856</td>\n",
       "      <td>NaN</td>\n",
       "      <td>NaN</td>\n",
       "      <td>NaN</td>\n",
       "      <td>11.1849</td>\n",
       "      <td>6.78889</td>\n",
       "      <td>0</td>\n",
       "      <td>6.4</td>\n",
       "      <td>10.3</td>\n",
       "      <td>14</td>\n",
       "      <td>48.1</td>\n",
       "    </tr>\n",
       "    <tr>\n",
       "      <th>Postcode</th>\n",
       "      <td>34856</td>\n",
       "      <td>NaN</td>\n",
       "      <td>NaN</td>\n",
       "      <td>NaN</td>\n",
       "      <td>3116.06</td>\n",
       "      <td>109.024</td>\n",
       "      <td>3000</td>\n",
       "      <td>3051</td>\n",
       "      <td>3103</td>\n",
       "      <td>3156</td>\n",
       "      <td>3978</td>\n",
       "    </tr>\n",
       "    <tr>\n",
       "      <th>Bedroom2</th>\n",
       "      <td>26640</td>\n",
       "      <td>NaN</td>\n",
       "      <td>NaN</td>\n",
       "      <td>NaN</td>\n",
       "      <td>3.08465</td>\n",
       "      <td>0.98069</td>\n",
       "      <td>0</td>\n",
       "      <td>2</td>\n",
       "      <td>3</td>\n",
       "      <td>4</td>\n",
       "      <td>30</td>\n",
       "    </tr>\n",
       "    <tr>\n",
       "      <th>Bathroom</th>\n",
       "      <td>26631</td>\n",
       "      <td>NaN</td>\n",
       "      <td>NaN</td>\n",
       "      <td>NaN</td>\n",
       "      <td>1.6248</td>\n",
       "      <td>0.724212</td>\n",
       "      <td>0</td>\n",
       "      <td>1</td>\n",
       "      <td>2</td>\n",
       "      <td>2</td>\n",
       "      <td>12</td>\n",
       "    </tr>\n",
       "    <tr>\n",
       "      <th>Car</th>\n",
       "      <td>26129</td>\n",
       "      <td>NaN</td>\n",
       "      <td>NaN</td>\n",
       "      <td>NaN</td>\n",
       "      <td>1.72885</td>\n",
       "      <td>1.01077</td>\n",
       "      <td>0</td>\n",
       "      <td>1</td>\n",
       "      <td>2</td>\n",
       "      <td>2</td>\n",
       "      <td>26</td>\n",
       "    </tr>\n",
       "    <tr>\n",
       "      <th>Landsize</th>\n",
       "      <td>23047</td>\n",
       "      <td>NaN</td>\n",
       "      <td>NaN</td>\n",
       "      <td>NaN</td>\n",
       "      <td>593.599</td>\n",
       "      <td>3398.84</td>\n",
       "      <td>0</td>\n",
       "      <td>224</td>\n",
       "      <td>521</td>\n",
       "      <td>670</td>\n",
       "      <td>433014</td>\n",
       "    </tr>\n",
       "    <tr>\n",
       "      <th>BuildingArea</th>\n",
       "      <td>13742</td>\n",
       "      <td>NaN</td>\n",
       "      <td>NaN</td>\n",
       "      <td>NaN</td>\n",
       "      <td>160.256</td>\n",
       "      <td>401.267</td>\n",
       "      <td>0</td>\n",
       "      <td>102</td>\n",
       "      <td>136</td>\n",
       "      <td>188</td>\n",
       "      <td>44515</td>\n",
       "    </tr>\n",
       "    <tr>\n",
       "      <th>YearBuilt</th>\n",
       "      <td>15551</td>\n",
       "      <td>NaN</td>\n",
       "      <td>NaN</td>\n",
       "      <td>NaN</td>\n",
       "      <td>1965.29</td>\n",
       "      <td>37.3282</td>\n",
       "      <td>1196</td>\n",
       "      <td>1940</td>\n",
       "      <td>1970</td>\n",
       "      <td>2000</td>\n",
       "      <td>2106</td>\n",
       "    </tr>\n",
       "    <tr>\n",
       "      <th>CouncilArea</th>\n",
       "      <td>34854</td>\n",
       "      <td>33</td>\n",
       "      <td>Boroondara City Council</td>\n",
       "      <td>3675</td>\n",
       "      <td>NaN</td>\n",
       "      <td>NaN</td>\n",
       "      <td>NaN</td>\n",
       "      <td>NaN</td>\n",
       "      <td>NaN</td>\n",
       "      <td>NaN</td>\n",
       "      <td>NaN</td>\n",
       "    </tr>\n",
       "    <tr>\n",
       "      <th>Lattitude</th>\n",
       "      <td>26881</td>\n",
       "      <td>NaN</td>\n",
       "      <td>NaN</td>\n",
       "      <td>NaN</td>\n",
       "      <td>-37.8106</td>\n",
       "      <td>0.0902789</td>\n",
       "      <td>-38.1904</td>\n",
       "      <td>-37.8629</td>\n",
       "      <td>-37.8076</td>\n",
       "      <td>-37.7541</td>\n",
       "      <td>-37.3902</td>\n",
       "    </tr>\n",
       "    <tr>\n",
       "      <th>Longtitude</th>\n",
       "      <td>26881</td>\n",
       "      <td>NaN</td>\n",
       "      <td>NaN</td>\n",
       "      <td>NaN</td>\n",
       "      <td>145.002</td>\n",
       "      <td>0.120169</td>\n",
       "      <td>144.424</td>\n",
       "      <td>144.934</td>\n",
       "      <td>145.008</td>\n",
       "      <td>145.072</td>\n",
       "      <td>145.526</td>\n",
       "    </tr>\n",
       "    <tr>\n",
       "      <th>Regionname</th>\n",
       "      <td>34854</td>\n",
       "      <td>8</td>\n",
       "      <td>Southern Metropolitan</td>\n",
       "      <td>11836</td>\n",
       "      <td>NaN</td>\n",
       "      <td>NaN</td>\n",
       "      <td>NaN</td>\n",
       "      <td>NaN</td>\n",
       "      <td>NaN</td>\n",
       "      <td>NaN</td>\n",
       "      <td>NaN</td>\n",
       "    </tr>\n",
       "    <tr>\n",
       "      <th>Propertycount</th>\n",
       "      <td>34854</td>\n",
       "      <td>NaN</td>\n",
       "      <td>NaN</td>\n",
       "      <td>NaN</td>\n",
       "      <td>7572.89</td>\n",
       "      <td>4428.09</td>\n",
       "      <td>83</td>\n",
       "      <td>4385</td>\n",
       "      <td>6763</td>\n",
       "      <td>10412</td>\n",
       "      <td>21650</td>\n",
       "    </tr>\n",
       "  </tbody>\n",
       "</table>\n",
       "</div>"
      ],
      "text/plain": [
       "               count unique                      top   freq         mean  \\\n",
       "Suburb         34857    351                Reservoir    844          NaN   \n",
       "Address        34857  34009             5 Charles St      6          NaN   \n",
       "Rooms          34857    NaN                      NaN    NaN      3.03101   \n",
       "Type           34857      3                        h  23980          NaN   \n",
       "Price          27247    NaN                      NaN    NaN  1.05017e+06   \n",
       "Method         34857      9                        S  19744          NaN   \n",
       "SellerG        34857    388                   Jellis   3359          NaN   \n",
       "Date           34857     78               28/10/2017   1119          NaN   \n",
       "Distance       34856    NaN                      NaN    NaN      11.1849   \n",
       "Postcode       34856    NaN                      NaN    NaN      3116.06   \n",
       "Bedroom2       26640    NaN                      NaN    NaN      3.08465   \n",
       "Bathroom       26631    NaN                      NaN    NaN       1.6248   \n",
       "Car            26129    NaN                      NaN    NaN      1.72885   \n",
       "Landsize       23047    NaN                      NaN    NaN      593.599   \n",
       "BuildingArea   13742    NaN                      NaN    NaN      160.256   \n",
       "YearBuilt      15551    NaN                      NaN    NaN      1965.29   \n",
       "CouncilArea    34854     33  Boroondara City Council   3675          NaN   \n",
       "Lattitude      26881    NaN                      NaN    NaN     -37.8106   \n",
       "Longtitude     26881    NaN                      NaN    NaN      145.002   \n",
       "Regionname     34854      8    Southern Metropolitan  11836          NaN   \n",
       "Propertycount  34854    NaN                      NaN    NaN      7572.89   \n",
       "\n",
       "                     std      min      25%      50%        75%       max  \n",
       "Suburb               NaN      NaN      NaN      NaN        NaN       NaN  \n",
       "Address              NaN      NaN      NaN      NaN        NaN       NaN  \n",
       "Rooms           0.969933        1        2        3          4        16  \n",
       "Type                 NaN      NaN      NaN      NaN        NaN       NaN  \n",
       "Price             641467    85000   635000   870000  1.295e+06  1.12e+07  \n",
       "Method               NaN      NaN      NaN      NaN        NaN       NaN  \n",
       "SellerG              NaN      NaN      NaN      NaN        NaN       NaN  \n",
       "Date                 NaN      NaN      NaN      NaN        NaN       NaN  \n",
       "Distance         6.78889        0      6.4     10.3         14      48.1  \n",
       "Postcode         109.024     3000     3051     3103       3156      3978  \n",
       "Bedroom2         0.98069        0        2        3          4        30  \n",
       "Bathroom        0.724212        0        1        2          2        12  \n",
       "Car              1.01077        0        1        2          2        26  \n",
       "Landsize         3398.84        0      224      521        670    433014  \n",
       "BuildingArea     401.267        0      102      136        188     44515  \n",
       "YearBuilt        37.3282     1196     1940     1970       2000      2106  \n",
       "CouncilArea          NaN      NaN      NaN      NaN        NaN       NaN  \n",
       "Lattitude      0.0902789 -38.1904 -37.8629 -37.8076   -37.7541  -37.3902  \n",
       "Longtitude      0.120169  144.424  144.934  145.008    145.072   145.526  \n",
       "Regionname           NaN      NaN      NaN      NaN        NaN       NaN  \n",
       "Propertycount    4428.09       83     4385     6763      10412     21650  "
      ]
     },
     "execution_count": 3,
     "metadata": {},
     "output_type": "execute_result"
    }
   ],
   "source": [
    "data.describe(include='all').T"
   ]
  },
  {
   "cell_type": "code",
   "execution_count": 4,
   "metadata": {},
   "outputs": [
    {
     "data": {
      "text/plain": [
       "(34857, 21)"
      ]
     },
     "execution_count": 4,
     "metadata": {},
     "output_type": "execute_result"
    }
   ],
   "source": [
    "data.shape"
   ]
  },
  {
   "cell_type": "markdown",
   "metadata": {},
   "source": [
    "I want first by using intuition to drop all the columns that are not relevant to the **price** including:\n",
    "+ Lattitude\n",
    "+ Longtitude"
   ]
  },
  {
   "cell_type": "code",
   "execution_count": 5,
   "metadata": {},
   "outputs": [],
   "source": [
    "data.drop(columns=['Lattitude','Longtitude'], inplace=True)"
   ]
  },
  {
   "cell_type": "markdown",
   "metadata": {},
   "source": [
    "# Data cleaning #"
   ]
  },
  {
   "cell_type": "markdown",
   "metadata": {},
   "source": [
    "### - Distance ###"
   ]
  },
  {
   "cell_type": "code",
   "execution_count": 6,
   "metadata": {},
   "outputs": [
    {
     "data": {
      "text/plain": [
       " 11.2    1420\n",
       " 13.8     681\n",
       " 9.2      665\n",
       " 7.8      662\n",
       " 10.5     660\n",
       " 8.4      604\n",
       " 4.6      585\n",
       " 14.7     566\n",
       " 5.2      565\n",
       " 11.4     521\n",
       " 13.9     499\n",
       " 9.7      470\n",
       " 7.5      468\n",
       " 6.4      459\n",
       " 5.3      437\n",
       " 13.0     427\n",
       " 14.0     425\n",
       " 6.2      403\n",
       " 12.0     400\n",
       " 16.7     394\n",
       " 8.8      389\n",
       " 7.7      384\n",
       " 6.3      366\n",
       " 20.6     356\n",
       " 5.9      353\n",
       " 12.1     350\n",
       " 8.0      339\n",
       " 17.9     338\n",
       " 2.6      338\n",
       " 7.0      333\n",
       "         ... \n",
       " 47.4       7\n",
       " 37.5       7\n",
       " 39.0       7\n",
       " 33.3       7\n",
       " 29.9       7\n",
       " 17.6       7\n",
       " 48.1       6\n",
       " 43.3       6\n",
       " 3.7        6\n",
       " 1.4        6\n",
       " 43.4       5\n",
       " 18.7       5\n",
       " 31.6       4\n",
       " 35.5       4\n",
       " 30.4       3\n",
       " 45.2       2\n",
       " 23.6       2\n",
       " 29.3       2\n",
       " 20.1       2\n",
       " 26.1       2\n",
       " 34.6       2\n",
       " 33.8       2\n",
       " 39.8       2\n",
       "NaN         1\n",
       " 31.4       1\n",
       " 32.6       1\n",
       " 33.0       1\n",
       " 22.9       1\n",
       " 30.6       1\n",
       " 29.5       1\n",
       "Name: Distance, Length: 216, dtype: int64"
      ]
     },
     "execution_count": 6,
     "metadata": {},
     "output_type": "execute_result"
    }
   ],
   "source": [
    "data.Distance.value_counts(dropna=False)"
   ]
  },
  {
   "cell_type": "markdown",
   "metadata": {},
   "source": [
    "There is only 1 missing value. The mode of this feature has significant counts. Hence, it is plausible to replace this missing value with the mode of this feature."
   ]
  },
  {
   "cell_type": "code",
   "execution_count": 7,
   "metadata": {},
   "outputs": [],
   "source": [
    "data.Distance.fillna(data.Distance.mode(), inplace=True)"
   ]
  },
  {
   "cell_type": "markdown",
   "metadata": {},
   "source": [
    "### - Postcode ###"
   ]
  },
  {
   "cell_type": "code",
   "execution_count": 8,
   "metadata": {},
   "outputs": [
    {
     "data": {
      "text/html": [
       "<div>\n",
       "<style scoped>\n",
       "    .dataframe tbody tr th:only-of-type {\n",
       "        vertical-align: middle;\n",
       "    }\n",
       "\n",
       "    .dataframe tbody tr th {\n",
       "        vertical-align: top;\n",
       "    }\n",
       "\n",
       "    .dataframe thead th {\n",
       "        text-align: right;\n",
       "    }\n",
       "</style>\n",
       "<table border=\"1\" class=\"dataframe\">\n",
       "  <thead>\n",
       "    <tr style=\"text-align: right;\">\n",
       "      <th></th>\n",
       "      <th>Suburb</th>\n",
       "      <th>Address</th>\n",
       "      <th>Rooms</th>\n",
       "      <th>Type</th>\n",
       "      <th>Price</th>\n",
       "      <th>Method</th>\n",
       "      <th>SellerG</th>\n",
       "      <th>Date</th>\n",
       "      <th>Distance</th>\n",
       "      <th>Postcode</th>\n",
       "      <th>Bedroom2</th>\n",
       "      <th>Bathroom</th>\n",
       "      <th>Car</th>\n",
       "      <th>Landsize</th>\n",
       "      <th>BuildingArea</th>\n",
       "      <th>YearBuilt</th>\n",
       "      <th>CouncilArea</th>\n",
       "      <th>Regionname</th>\n",
       "      <th>Propertycount</th>\n",
       "    </tr>\n",
       "  </thead>\n",
       "  <tbody>\n",
       "    <tr>\n",
       "      <th>29483</th>\n",
       "      <td>Fawkner Lot</td>\n",
       "      <td>1/3 Brian St</td>\n",
       "      <td>3</td>\n",
       "      <td>h</td>\n",
       "      <td>616000.0</td>\n",
       "      <td>SP</td>\n",
       "      <td>Brad</td>\n",
       "      <td>6/01/2018</td>\n",
       "      <td>NaN</td>\n",
       "      <td>NaN</td>\n",
       "      <td>NaN</td>\n",
       "      <td>NaN</td>\n",
       "      <td>NaN</td>\n",
       "      <td>NaN</td>\n",
       "      <td>NaN</td>\n",
       "      <td>NaN</td>\n",
       "      <td>NaN</td>\n",
       "      <td>NaN</td>\n",
       "      <td>NaN</td>\n",
       "    </tr>\n",
       "  </tbody>\n",
       "</table>\n",
       "</div>"
      ],
      "text/plain": [
       "            Suburb       Address  Rooms Type     Price Method SellerG  \\\n",
       "29483  Fawkner Lot  1/3 Brian St      3    h  616000.0     SP    Brad   \n",
       "\n",
       "            Date  Distance  Postcode  Bedroom2  Bathroom  Car  Landsize  \\\n",
       "29483  6/01/2018       NaN       NaN       NaN       NaN  NaN       NaN   \n",
       "\n",
       "       BuildingArea  YearBuilt CouncilArea Regionname  Propertycount  \n",
       "29483           NaN        NaN         NaN        NaN            NaN  "
      ]
     },
     "execution_count": 8,
     "metadata": {},
     "output_type": "execute_result"
    }
   ],
   "source": [
    "data[data.Postcode.isnull()]"
   ]
  },
  {
   "cell_type": "markdown",
   "metadata": {},
   "source": [
    "It occurs that this row has a lots of missing data. The solution is just drop this because it seems useless."
   ]
  },
  {
   "cell_type": "code",
   "execution_count": 9,
   "metadata": {},
   "outputs": [],
   "source": [
    "data.drop(index=29483, inplace=True)"
   ]
  },
  {
   "cell_type": "code",
   "execution_count": 10,
   "metadata": {},
   "outputs": [],
   "source": [
    "data.reset_index().drop(columns='index', inplace=True)"
   ]
  },
  {
   "cell_type": "code",
   "execution_count": 11,
   "metadata": {},
   "outputs": [
    {
     "data": {
      "text/plain": [
       "Suburb                         Fawkner\n",
       "Address                   1/1 Clara St\n",
       "Rooms                                2\n",
       "Type                                 u\n",
       "Price                           412000\n",
       "Method                               S\n",
       "SellerG                            Ray\n",
       "Date                         6/01/2018\n",
       "Distance                          13.1\n",
       "Postcode                          3060\n",
       "Bedroom2                             2\n",
       "Bathroom                             1\n",
       "Car                                  1\n",
       "Landsize                           NaN\n",
       "BuildingArea                       NaN\n",
       "YearBuilt                          NaN\n",
       "CouncilArea          Hume City Council\n",
       "Regionname       Northern Metropolitan\n",
       "Propertycount                     5070\n",
       "Name: 29484, dtype: object"
      ]
     },
     "execution_count": 11,
     "metadata": {},
     "output_type": "execute_result"
    }
   ],
   "source": [
    "data.iloc[29483]"
   ]
  },
  {
   "cell_type": "markdown",
   "metadata": {},
   "source": [
    "### - Regionname ###"
   ]
  },
  {
   "cell_type": "code",
   "execution_count": 12,
   "metadata": {},
   "outputs": [
    {
     "data": {
      "text/plain": [
       "Southern Metropolitan         11836\n",
       "Northern Metropolitan          9557\n",
       "Western Metropolitan           6799\n",
       "Eastern Metropolitan           4377\n",
       "South-Eastern Metropolitan     1739\n",
       "Eastern Victoria                228\n",
       "Northern Victoria               203\n",
       "Western Victoria                115\n",
       "NaN                               2\n",
       "Name: Regionname, dtype: int64"
      ]
     },
     "execution_count": 12,
     "metadata": {},
     "output_type": "execute_result"
    }
   ],
   "source": [
    "data.Regionname.value_counts(dropna=False)"
   ]
  },
  {
   "cell_type": "code",
   "execution_count": 13,
   "metadata": {},
   "outputs": [
    {
     "data": {
      "text/html": [
       "<div>\n",
       "<style scoped>\n",
       "    .dataframe tbody tr th:only-of-type {\n",
       "        vertical-align: middle;\n",
       "    }\n",
       "\n",
       "    .dataframe tbody tr th {\n",
       "        vertical-align: top;\n",
       "    }\n",
       "\n",
       "    .dataframe thead th {\n",
       "        text-align: right;\n",
       "    }\n",
       "</style>\n",
       "<table border=\"1\" class=\"dataframe\">\n",
       "  <thead>\n",
       "    <tr style=\"text-align: right;\">\n",
       "      <th></th>\n",
       "      <th>Suburb</th>\n",
       "      <th>Address</th>\n",
       "      <th>Rooms</th>\n",
       "      <th>Type</th>\n",
       "      <th>Price</th>\n",
       "      <th>Method</th>\n",
       "      <th>SellerG</th>\n",
       "      <th>Date</th>\n",
       "      <th>Distance</th>\n",
       "      <th>Postcode</th>\n",
       "      <th>Bedroom2</th>\n",
       "      <th>Bathroom</th>\n",
       "      <th>Car</th>\n",
       "      <th>Landsize</th>\n",
       "      <th>BuildingArea</th>\n",
       "      <th>YearBuilt</th>\n",
       "      <th>CouncilArea</th>\n",
       "      <th>Regionname</th>\n",
       "      <th>Propertycount</th>\n",
       "    </tr>\n",
       "  </thead>\n",
       "  <tbody>\n",
       "    <tr>\n",
       "      <th>18523</th>\n",
       "      <td>Footscray</td>\n",
       "      <td>2/16 Stafford St</td>\n",
       "      <td>2</td>\n",
       "      <td>u</td>\n",
       "      <td>710000.0</td>\n",
       "      <td>S</td>\n",
       "      <td>Jas</td>\n",
       "      <td>15/07/2017</td>\n",
       "      <td>5.1</td>\n",
       "      <td>3011.0</td>\n",
       "      <td>NaN</td>\n",
       "      <td>NaN</td>\n",
       "      <td>NaN</td>\n",
       "      <td>NaN</td>\n",
       "      <td>NaN</td>\n",
       "      <td>NaN</td>\n",
       "      <td>NaN</td>\n",
       "      <td>NaN</td>\n",
       "      <td>NaN</td>\n",
       "    </tr>\n",
       "    <tr>\n",
       "      <th>26888</th>\n",
       "      <td>Camberwell</td>\n",
       "      <td>2/3 Kingsley St</td>\n",
       "      <td>2</td>\n",
       "      <td>h</td>\n",
       "      <td>825000.0</td>\n",
       "      <td>VB</td>\n",
       "      <td>Jellis</td>\n",
       "      <td>11/11/2017</td>\n",
       "      <td>7.7</td>\n",
       "      <td>3124.0</td>\n",
       "      <td>NaN</td>\n",
       "      <td>NaN</td>\n",
       "      <td>NaN</td>\n",
       "      <td>NaN</td>\n",
       "      <td>NaN</td>\n",
       "      <td>NaN</td>\n",
       "      <td>NaN</td>\n",
       "      <td>NaN</td>\n",
       "      <td>NaN</td>\n",
       "    </tr>\n",
       "  </tbody>\n",
       "</table>\n",
       "</div>"
      ],
      "text/plain": [
       "           Suburb           Address  Rooms Type     Price Method SellerG  \\\n",
       "18523   Footscray  2/16 Stafford St      2    u  710000.0      S     Jas   \n",
       "26888  Camberwell   2/3 Kingsley St      2    h  825000.0     VB  Jellis   \n",
       "\n",
       "             Date  Distance  Postcode  Bedroom2  Bathroom  Car  Landsize  \\\n",
       "18523  15/07/2017       5.1    3011.0       NaN       NaN  NaN       NaN   \n",
       "26888  11/11/2017       7.7    3124.0       NaN       NaN  NaN       NaN   \n",
       "\n",
       "       BuildingArea  YearBuilt CouncilArea Regionname  Propertycount  \n",
       "18523           NaN        NaN         NaN        NaN            NaN  \n",
       "26888           NaN        NaN         NaN        NaN            NaN  "
      ]
     },
     "execution_count": 13,
     "metadata": {},
     "output_type": "execute_result"
    }
   ],
   "source": [
    "data[data.Regionname.isnull()]"
   ]
  },
  {
   "cell_type": "markdown",
   "metadata": {},
   "source": [
    "It also shows that these two rows misses alot of features and we want to drop them as above."
   ]
  },
  {
   "cell_type": "code",
   "execution_count": 14,
   "metadata": {},
   "outputs": [],
   "source": [
    "data.drop(index=[18523, 26888], inplace=True)\n",
    "data.reset_index().drop(columns='index', inplace=True)"
   ]
  },
  {
   "cell_type": "markdown",
   "metadata": {},
   "source": [
    "We might want to take a look at the data again to see which columns need cleaning"
   ]
  },
  {
   "cell_type": "code",
   "execution_count": 15,
   "metadata": {},
   "outputs": [
    {
     "data": {
      "text/html": [
       "<div>\n",
       "<style scoped>\n",
       "    .dataframe tbody tr th:only-of-type {\n",
       "        vertical-align: middle;\n",
       "    }\n",
       "\n",
       "    .dataframe tbody tr th {\n",
       "        vertical-align: top;\n",
       "    }\n",
       "\n",
       "    .dataframe thead th {\n",
       "        text-align: right;\n",
       "    }\n",
       "</style>\n",
       "<table border=\"1\" class=\"dataframe\">\n",
       "  <thead>\n",
       "    <tr style=\"text-align: right;\">\n",
       "      <th></th>\n",
       "      <th>count</th>\n",
       "      <th>unique</th>\n",
       "      <th>top</th>\n",
       "      <th>freq</th>\n",
       "      <th>mean</th>\n",
       "      <th>std</th>\n",
       "      <th>min</th>\n",
       "      <th>25%</th>\n",
       "      <th>50%</th>\n",
       "      <th>75%</th>\n",
       "      <th>max</th>\n",
       "    </tr>\n",
       "  </thead>\n",
       "  <tbody>\n",
       "    <tr>\n",
       "      <th>Suburb</th>\n",
       "      <td>34854</td>\n",
       "      <td>350</td>\n",
       "      <td>Reservoir</td>\n",
       "      <td>844</td>\n",
       "      <td>NaN</td>\n",
       "      <td>NaN</td>\n",
       "      <td>NaN</td>\n",
       "      <td>NaN</td>\n",
       "      <td>NaN</td>\n",
       "      <td>NaN</td>\n",
       "      <td>NaN</td>\n",
       "    </tr>\n",
       "    <tr>\n",
       "      <th>Address</th>\n",
       "      <td>34854</td>\n",
       "      <td>34006</td>\n",
       "      <td>5 Charles St</td>\n",
       "      <td>6</td>\n",
       "      <td>NaN</td>\n",
       "      <td>NaN</td>\n",
       "      <td>NaN</td>\n",
       "      <td>NaN</td>\n",
       "      <td>NaN</td>\n",
       "      <td>NaN</td>\n",
       "      <td>NaN</td>\n",
       "    </tr>\n",
       "    <tr>\n",
       "      <th>Rooms</th>\n",
       "      <td>34854</td>\n",
       "      <td>NaN</td>\n",
       "      <td>NaN</td>\n",
       "      <td>NaN</td>\n",
       "      <td>3.03107</td>\n",
       "      <td>0.969943</td>\n",
       "      <td>1</td>\n",
       "      <td>2</td>\n",
       "      <td>3</td>\n",
       "      <td>4</td>\n",
       "      <td>16</td>\n",
       "    </tr>\n",
       "    <tr>\n",
       "      <th>Type</th>\n",
       "      <td>34854</td>\n",
       "      <td>3</td>\n",
       "      <td>h</td>\n",
       "      <td>23978</td>\n",
       "      <td>NaN</td>\n",
       "      <td>NaN</td>\n",
       "      <td>NaN</td>\n",
       "      <td>NaN</td>\n",
       "      <td>NaN</td>\n",
       "      <td>NaN</td>\n",
       "      <td>NaN</td>\n",
       "    </tr>\n",
       "    <tr>\n",
       "      <th>Price</th>\n",
       "      <td>27244</td>\n",
       "      <td>NaN</td>\n",
       "      <td>NaN</td>\n",
       "      <td>NaN</td>\n",
       "      <td>1.05021e+06</td>\n",
       "      <td>641492</td>\n",
       "      <td>85000</td>\n",
       "      <td>635000</td>\n",
       "      <td>870000</td>\n",
       "      <td>1.295e+06</td>\n",
       "      <td>1.12e+07</td>\n",
       "    </tr>\n",
       "    <tr>\n",
       "      <th>Method</th>\n",
       "      <td>34854</td>\n",
       "      <td>9</td>\n",
       "      <td>S</td>\n",
       "      <td>19743</td>\n",
       "      <td>NaN</td>\n",
       "      <td>NaN</td>\n",
       "      <td>NaN</td>\n",
       "      <td>NaN</td>\n",
       "      <td>NaN</td>\n",
       "      <td>NaN</td>\n",
       "      <td>NaN</td>\n",
       "    </tr>\n",
       "    <tr>\n",
       "      <th>SellerG</th>\n",
       "      <td>34854</td>\n",
       "      <td>388</td>\n",
       "      <td>Jellis</td>\n",
       "      <td>3358</td>\n",
       "      <td>NaN</td>\n",
       "      <td>NaN</td>\n",
       "      <td>NaN</td>\n",
       "      <td>NaN</td>\n",
       "      <td>NaN</td>\n",
       "      <td>NaN</td>\n",
       "      <td>NaN</td>\n",
       "    </tr>\n",
       "    <tr>\n",
       "      <th>Date</th>\n",
       "      <td>34854</td>\n",
       "      <td>78</td>\n",
       "      <td>28/10/2017</td>\n",
       "      <td>1119</td>\n",
       "      <td>NaN</td>\n",
       "      <td>NaN</td>\n",
       "      <td>NaN</td>\n",
       "      <td>NaN</td>\n",
       "      <td>NaN</td>\n",
       "      <td>NaN</td>\n",
       "      <td>NaN</td>\n",
       "    </tr>\n",
       "    <tr>\n",
       "      <th>Distance</th>\n",
       "      <td>34854</td>\n",
       "      <td>NaN</td>\n",
       "      <td>NaN</td>\n",
       "      <td>NaN</td>\n",
       "      <td>11.1852</td>\n",
       "      <td>6.78898</td>\n",
       "      <td>0</td>\n",
       "      <td>6.4</td>\n",
       "      <td>10.3</td>\n",
       "      <td>14</td>\n",
       "      <td>48.1</td>\n",
       "    </tr>\n",
       "    <tr>\n",
       "      <th>Postcode</th>\n",
       "      <td>34854</td>\n",
       "      <td>NaN</td>\n",
       "      <td>NaN</td>\n",
       "      <td>NaN</td>\n",
       "      <td>3116.07</td>\n",
       "      <td>109.026</td>\n",
       "      <td>3000</td>\n",
       "      <td>3051</td>\n",
       "      <td>3103</td>\n",
       "      <td>3156</td>\n",
       "      <td>3978</td>\n",
       "    </tr>\n",
       "    <tr>\n",
       "      <th>Bedroom2</th>\n",
       "      <td>26640</td>\n",
       "      <td>NaN</td>\n",
       "      <td>NaN</td>\n",
       "      <td>NaN</td>\n",
       "      <td>3.08465</td>\n",
       "      <td>0.98069</td>\n",
       "      <td>0</td>\n",
       "      <td>2</td>\n",
       "      <td>3</td>\n",
       "      <td>4</td>\n",
       "      <td>30</td>\n",
       "    </tr>\n",
       "    <tr>\n",
       "      <th>Bathroom</th>\n",
       "      <td>26631</td>\n",
       "      <td>NaN</td>\n",
       "      <td>NaN</td>\n",
       "      <td>NaN</td>\n",
       "      <td>1.6248</td>\n",
       "      <td>0.724212</td>\n",
       "      <td>0</td>\n",
       "      <td>1</td>\n",
       "      <td>2</td>\n",
       "      <td>2</td>\n",
       "      <td>12</td>\n",
       "    </tr>\n",
       "    <tr>\n",
       "      <th>Car</th>\n",
       "      <td>26129</td>\n",
       "      <td>NaN</td>\n",
       "      <td>NaN</td>\n",
       "      <td>NaN</td>\n",
       "      <td>1.72885</td>\n",
       "      <td>1.01077</td>\n",
       "      <td>0</td>\n",
       "      <td>1</td>\n",
       "      <td>2</td>\n",
       "      <td>2</td>\n",
       "      <td>26</td>\n",
       "    </tr>\n",
       "    <tr>\n",
       "      <th>Landsize</th>\n",
       "      <td>23047</td>\n",
       "      <td>NaN</td>\n",
       "      <td>NaN</td>\n",
       "      <td>NaN</td>\n",
       "      <td>593.599</td>\n",
       "      <td>3398.84</td>\n",
       "      <td>0</td>\n",
       "      <td>224</td>\n",
       "      <td>521</td>\n",
       "      <td>670</td>\n",
       "      <td>433014</td>\n",
       "    </tr>\n",
       "    <tr>\n",
       "      <th>BuildingArea</th>\n",
       "      <td>13742</td>\n",
       "      <td>NaN</td>\n",
       "      <td>NaN</td>\n",
       "      <td>NaN</td>\n",
       "      <td>160.256</td>\n",
       "      <td>401.267</td>\n",
       "      <td>0</td>\n",
       "      <td>102</td>\n",
       "      <td>136</td>\n",
       "      <td>188</td>\n",
       "      <td>44515</td>\n",
       "    </tr>\n",
       "    <tr>\n",
       "      <th>YearBuilt</th>\n",
       "      <td>15551</td>\n",
       "      <td>NaN</td>\n",
       "      <td>NaN</td>\n",
       "      <td>NaN</td>\n",
       "      <td>1965.29</td>\n",
       "      <td>37.3282</td>\n",
       "      <td>1196</td>\n",
       "      <td>1940</td>\n",
       "      <td>1970</td>\n",
       "      <td>2000</td>\n",
       "      <td>2106</td>\n",
       "    </tr>\n",
       "    <tr>\n",
       "      <th>CouncilArea</th>\n",
       "      <td>34854</td>\n",
       "      <td>33</td>\n",
       "      <td>Boroondara City Council</td>\n",
       "      <td>3675</td>\n",
       "      <td>NaN</td>\n",
       "      <td>NaN</td>\n",
       "      <td>NaN</td>\n",
       "      <td>NaN</td>\n",
       "      <td>NaN</td>\n",
       "      <td>NaN</td>\n",
       "      <td>NaN</td>\n",
       "    </tr>\n",
       "    <tr>\n",
       "      <th>Regionname</th>\n",
       "      <td>34854</td>\n",
       "      <td>8</td>\n",
       "      <td>Southern Metropolitan</td>\n",
       "      <td>11836</td>\n",
       "      <td>NaN</td>\n",
       "      <td>NaN</td>\n",
       "      <td>NaN</td>\n",
       "      <td>NaN</td>\n",
       "      <td>NaN</td>\n",
       "      <td>NaN</td>\n",
       "      <td>NaN</td>\n",
       "    </tr>\n",
       "    <tr>\n",
       "      <th>Propertycount</th>\n",
       "      <td>34854</td>\n",
       "      <td>NaN</td>\n",
       "      <td>NaN</td>\n",
       "      <td>NaN</td>\n",
       "      <td>7572.89</td>\n",
       "      <td>4428.09</td>\n",
       "      <td>83</td>\n",
       "      <td>4385</td>\n",
       "      <td>6763</td>\n",
       "      <td>10412</td>\n",
       "      <td>21650</td>\n",
       "    </tr>\n",
       "  </tbody>\n",
       "</table>\n",
       "</div>"
      ],
      "text/plain": [
       "               count unique                      top   freq         mean  \\\n",
       "Suburb         34854    350                Reservoir    844          NaN   \n",
       "Address        34854  34006             5 Charles St      6          NaN   \n",
       "Rooms          34854    NaN                      NaN    NaN      3.03107   \n",
       "Type           34854      3                        h  23978          NaN   \n",
       "Price          27244    NaN                      NaN    NaN  1.05021e+06   \n",
       "Method         34854      9                        S  19743          NaN   \n",
       "SellerG        34854    388                   Jellis   3358          NaN   \n",
       "Date           34854     78               28/10/2017   1119          NaN   \n",
       "Distance       34854    NaN                      NaN    NaN      11.1852   \n",
       "Postcode       34854    NaN                      NaN    NaN      3116.07   \n",
       "Bedroom2       26640    NaN                      NaN    NaN      3.08465   \n",
       "Bathroom       26631    NaN                      NaN    NaN       1.6248   \n",
       "Car            26129    NaN                      NaN    NaN      1.72885   \n",
       "Landsize       23047    NaN                      NaN    NaN      593.599   \n",
       "BuildingArea   13742    NaN                      NaN    NaN      160.256   \n",
       "YearBuilt      15551    NaN                      NaN    NaN      1965.29   \n",
       "CouncilArea    34854     33  Boroondara City Council   3675          NaN   \n",
       "Regionname     34854      8    Southern Metropolitan  11836          NaN   \n",
       "Propertycount  34854    NaN                      NaN    NaN      7572.89   \n",
       "\n",
       "                    std    min     25%     50%        75%       max  \n",
       "Suburb              NaN    NaN     NaN     NaN        NaN       NaN  \n",
       "Address             NaN    NaN     NaN     NaN        NaN       NaN  \n",
       "Rooms          0.969943      1       2       3          4        16  \n",
       "Type                NaN    NaN     NaN     NaN        NaN       NaN  \n",
       "Price            641492  85000  635000  870000  1.295e+06  1.12e+07  \n",
       "Method              NaN    NaN     NaN     NaN        NaN       NaN  \n",
       "SellerG             NaN    NaN     NaN     NaN        NaN       NaN  \n",
       "Date                NaN    NaN     NaN     NaN        NaN       NaN  \n",
       "Distance        6.78898      0     6.4    10.3         14      48.1  \n",
       "Postcode        109.026   3000    3051    3103       3156      3978  \n",
       "Bedroom2        0.98069      0       2       3          4        30  \n",
       "Bathroom       0.724212      0       1       2          2        12  \n",
       "Car             1.01077      0       1       2          2        26  \n",
       "Landsize        3398.84      0     224     521        670    433014  \n",
       "BuildingArea    401.267      0     102     136        188     44515  \n",
       "YearBuilt       37.3282   1196    1940    1970       2000      2106  \n",
       "CouncilArea         NaN    NaN     NaN     NaN        NaN       NaN  \n",
       "Regionname          NaN    NaN     NaN     NaN        NaN       NaN  \n",
       "Propertycount   4428.09     83    4385    6763      10412     21650  "
      ]
     },
     "execution_count": 15,
     "metadata": {},
     "output_type": "execute_result"
    }
   ],
   "source": [
    "data.describe(include='all').T"
   ]
  },
  {
   "cell_type": "markdown",
   "metadata": {},
   "source": [
    "### - YearBuilt ###"
   ]
  },
  {
   "cell_type": "code",
   "execution_count": 16,
   "metadata": {},
   "outputs": [
    {
     "data": {
      "text/plain": [
       "2106.0    1\n",
       "Name: YearBuilt, dtype: int64"
      ]
     },
     "execution_count": 16,
     "metadata": {},
     "output_type": "execute_result"
    }
   ],
   "source": [
    "data.YearBuilt[data.YearBuilt >= 2020].value_counts(dropna=False)"
   ]
  },
  {
   "cell_type": "markdown",
   "metadata": {},
   "source": [
    "This is a typo and the possible data is 2016 instead of 2106."
   ]
  },
  {
   "cell_type": "code",
   "execution_count": 17,
   "metadata": {},
   "outputs": [],
   "source": [
    "data.YearBuilt.replace(2106, 2016, inplace=True)"
   ]
  },
  {
   "cell_type": "code",
   "execution_count": 18,
   "metadata": {},
   "outputs": [
    {
     "data": {
      "text/plain": [
       "NaN        19303\n",
       " 1970.0     1490\n",
       " 1960.0     1260\n",
       " 1950.0     1089\n",
       " 1980.0      726\n",
       " 1900.0      606\n",
       " 2000.0      571\n",
       " 1920.0      545\n",
       " 1930.0      531\n",
       " 1910.0      460\n",
       " 1890.0      444\n",
       " 1940.0      406\n",
       " 1975.0      387\n",
       " 2010.0      365\n",
       " 1990.0      361\n",
       " 2012.0      333\n",
       " 2005.0      276\n",
       " 1965.0      260\n",
       " 2013.0      247\n",
       " 2011.0      241\n",
       " 2009.0      229\n",
       " 1985.0      229\n",
       " 1995.0      215\n",
       " 2014.0      212\n",
       " 2008.0      202\n",
       " 2007.0      200\n",
       " 1955.0      177\n",
       " 1880.0      171\n",
       " 1925.0      169\n",
       " 2004.0      166\n",
       "           ...  \n",
       " 1898.0        3\n",
       " 1932.0        2\n",
       " 1881.0        2\n",
       " 1921.0        2\n",
       " 1931.0        2\n",
       " 1854.0        2\n",
       " 1872.0        2\n",
       " 1901.0        2\n",
       " 1894.0        2\n",
       " 1857.0        2\n",
       " 1909.0        2\n",
       " 1899.0        2\n",
       " 1855.0        1\n",
       " 1871.0        1\n",
       " 1869.0        1\n",
       " 1884.0        1\n",
       " 1896.0        1\n",
       " 1897.0        1\n",
       " 2019.0        1\n",
       " 1942.0        1\n",
       " 1876.0        1\n",
       " 1868.0        1\n",
       " 1800.0        1\n",
       " 1856.0        1\n",
       " 1883.0        1\n",
       " 1196.0        1\n",
       " 1820.0        1\n",
       " 1862.0        1\n",
       " 1830.0        1\n",
       " 1879.0        1\n",
       "Name: YearBuilt, Length: 160, dtype: int64"
      ]
     },
     "execution_count": 18,
     "metadata": {},
     "output_type": "execute_result"
    }
   ],
   "source": [
    "data.YearBuilt.value_counts(dropna=False)"
   ]
  },
  {
   "cell_type": "code",
   "execution_count": 19,
   "metadata": {},
   "outputs": [
    {
     "data": {
      "text/plain": [
       "-0.33330556412670925"
      ]
     },
     "execution_count": 19,
     "metadata": {},
     "output_type": "execute_result"
    }
   ],
   "source": [
    "data.YearBuilt.corr(data.Price)"
   ]
  },
  {
   "cell_type": "markdown",
   "metadata": {},
   "source": [
    "This feature has too maning NaNs and very low correlation with Price. I will drop this column."
   ]
  },
  {
   "cell_type": "code",
   "execution_count": 20,
   "metadata": {},
   "outputs": [],
   "source": [
    "data.drop(columns='YearBuilt', inplace=True)"
   ]
  },
  {
   "cell_type": "markdown",
   "metadata": {},
   "source": [
    "### - BuildingArea ###"
   ]
  },
  {
   "cell_type": "code",
   "execution_count": 21,
   "metadata": {},
   "outputs": [
    {
     "data": {
      "text/plain": [
       "NaN         21112\n",
       " 120.00       185\n",
       " 100.00       161\n",
       " 110.00       159\n",
       " 130.00       153\n",
       " 115.00       149\n",
       " 140.00       142\n",
       " 150.00       136\n",
       " 160.00       123\n",
       " 112.00       123\n",
       " 125.00       119\n",
       " 105.00       110\n",
       " 180.00       110\n",
       " 145.00       102\n",
       " 108.00       101\n",
       " 104.00       101\n",
       " 90.00        100\n",
       " 102.00       100\n",
       " 80.00        100\n",
       " 132.00        99\n",
       " 135.00        99\n",
       " 133.00        98\n",
       " 170.00        96\n",
       " 95.00         95\n",
       " 118.00        94\n",
       " 123.00        94\n",
       " 138.00        93\n",
       " 85.00         92\n",
       " 106.00        92\n",
       " 103.00        91\n",
       "            ...  \n",
       " 463.00         1\n",
       " 272.40         1\n",
       " 81.79          1\n",
       " 438.00         1\n",
       " 391.00         1\n",
       " 195.30         1\n",
       " 603.00         1\n",
       " 607.00         1\n",
       " 474.00         1\n",
       " 446.00         1\n",
       " 165.50         1\n",
       " 98.50          1\n",
       " 122.60         1\n",
       " 30.60          1\n",
       " 116.65         1\n",
       " 664.00         1\n",
       " 528.00         1\n",
       " 89.25          1\n",
       " 69.50          1\n",
       " 63.40          1\n",
       " 126.70         1\n",
       " 92.50          1\n",
       " 105.90         1\n",
       " 511.00         1\n",
       " 157.85         1\n",
       " 130.52         1\n",
       " 2002.00        1\n",
       " 409.54         1\n",
       " 110.87         1\n",
       " 180.56         1\n",
       "Name: BuildingArea, Length: 741, dtype: int64"
      ]
     },
     "execution_count": 21,
     "metadata": {},
     "output_type": "execute_result"
    }
   ],
   "source": [
    "data.BuildingArea.value_counts(dropna=False)"
   ]
  },
  {
   "cell_type": "markdown",
   "metadata": {},
   "source": [
    "This feature also misses a lot of data. But this is a very important feature as a guess, I cannot drop this column. Instead, I will drop all of the missing rows."
   ]
  },
  {
   "cell_type": "code",
   "execution_count": 22,
   "metadata": {},
   "outputs": [],
   "source": [
    "data = data[pd.notnull(data['BuildingArea'])]"
   ]
  },
  {
   "cell_type": "code",
   "execution_count": 23,
   "metadata": {},
   "outputs": [
    {
     "data": {
      "text/plain": [
       "Suburb                           New Gisborne\n",
       "Address                        71 Hamilton Rd\n",
       "Rooms                                       5\n",
       "Type                                        h\n",
       "Price                               1.355e+06\n",
       "Method                                      S\n",
       "SellerG                                 Raine\n",
       "Date                               23/09/2017\n",
       "Distance                                 48.1\n",
       "Postcode                                 3438\n",
       "Bedroom2                                    5\n",
       "Bathroom                                    3\n",
       "Car                                         5\n",
       "Landsize                                44500\n",
       "BuildingArea                            44515\n",
       "CouncilArea      Macedon Ranges Shire Council\n",
       "Regionname                  Northern Victoria\n",
       "Propertycount                             849\n",
       "Name: 22632, dtype: object"
      ]
     },
     "execution_count": 23,
     "metadata": {},
     "output_type": "execute_result"
    }
   ],
   "source": [
    "data.loc[data.BuildingArea.idxmax()]"
   ]
  },
  {
   "cell_type": "markdown",
   "metadata": {},
   "source": [
    "I notice this is an outlier with very high price and very large Area, totally distighes itself from all of the others. I would drop this for the sake of regression later."
   ]
  },
  {
   "cell_type": "code",
   "execution_count": 24,
   "metadata": {},
   "outputs": [],
   "source": [
    "data.drop(index=data.BuildingArea.idxmax(), inplace=True)"
   ]
  },
  {
   "cell_type": "code",
   "execution_count": 25,
   "metadata": {},
   "outputs": [
    {
     "data": {
      "text/html": [
       "<div>\n",
       "<style scoped>\n",
       "    .dataframe tbody tr th:only-of-type {\n",
       "        vertical-align: middle;\n",
       "    }\n",
       "\n",
       "    .dataframe tbody tr th {\n",
       "        vertical-align: top;\n",
       "    }\n",
       "\n",
       "    .dataframe thead th {\n",
       "        text-align: right;\n",
       "    }\n",
       "</style>\n",
       "<table border=\"1\" class=\"dataframe\">\n",
       "  <thead>\n",
       "    <tr style=\"text-align: right;\">\n",
       "      <th></th>\n",
       "      <th>count</th>\n",
       "      <th>unique</th>\n",
       "      <th>top</th>\n",
       "      <th>freq</th>\n",
       "      <th>mean</th>\n",
       "      <th>std</th>\n",
       "      <th>min</th>\n",
       "      <th>25%</th>\n",
       "      <th>50%</th>\n",
       "      <th>75%</th>\n",
       "      <th>max</th>\n",
       "    </tr>\n",
       "  </thead>\n",
       "  <tbody>\n",
       "    <tr>\n",
       "      <th>Suburb</th>\n",
       "      <td>13741</td>\n",
       "      <td>326</td>\n",
       "      <td>Reservoir</td>\n",
       "      <td>259</td>\n",
       "      <td>NaN</td>\n",
       "      <td>NaN</td>\n",
       "      <td>NaN</td>\n",
       "      <td>NaN</td>\n",
       "      <td>NaN</td>\n",
       "      <td>NaN</td>\n",
       "      <td>NaN</td>\n",
       "    </tr>\n",
       "    <tr>\n",
       "      <th>Address</th>\n",
       "      <td>13741</td>\n",
       "      <td>13488</td>\n",
       "      <td>25 William St</td>\n",
       "      <td>4</td>\n",
       "      <td>NaN</td>\n",
       "      <td>NaN</td>\n",
       "      <td>NaN</td>\n",
       "      <td>NaN</td>\n",
       "      <td>NaN</td>\n",
       "      <td>NaN</td>\n",
       "      <td>NaN</td>\n",
       "    </tr>\n",
       "    <tr>\n",
       "      <th>Rooms</th>\n",
       "      <td>13741</td>\n",
       "      <td>NaN</td>\n",
       "      <td>NaN</td>\n",
       "      <td>NaN</td>\n",
       "      <td>3.14824</td>\n",
       "      <td>0.97356</td>\n",
       "      <td>1</td>\n",
       "      <td>3</td>\n",
       "      <td>3</td>\n",
       "      <td>4</td>\n",
       "      <td>12</td>\n",
       "    </tr>\n",
       "    <tr>\n",
       "      <th>Type</th>\n",
       "      <td>13741</td>\n",
       "      <td>3</td>\n",
       "      <td>h</td>\n",
       "      <td>10412</td>\n",
       "      <td>NaN</td>\n",
       "      <td>NaN</td>\n",
       "      <td>NaN</td>\n",
       "      <td>NaN</td>\n",
       "      <td>NaN</td>\n",
       "      <td>NaN</td>\n",
       "      <td>NaN</td>\n",
       "    </tr>\n",
       "    <tr>\n",
       "      <th>Price</th>\n",
       "      <td>10655</td>\n",
       "      <td>NaN</td>\n",
       "      <td>NaN</td>\n",
       "      <td>NaN</td>\n",
       "      <td>1.08703e+06</td>\n",
       "      <td>677203</td>\n",
       "      <td>131000</td>\n",
       "      <td>640000</td>\n",
       "      <td>892500</td>\n",
       "      <td>1.33e+06</td>\n",
       "      <td>9e+06</td>\n",
       "    </tr>\n",
       "    <tr>\n",
       "      <th>Method</th>\n",
       "      <td>13741</td>\n",
       "      <td>9</td>\n",
       "      <td>S</td>\n",
       "      <td>7644</td>\n",
       "      <td>NaN</td>\n",
       "      <td>NaN</td>\n",
       "      <td>NaN</td>\n",
       "      <td>NaN</td>\n",
       "      <td>NaN</td>\n",
       "      <td>NaN</td>\n",
       "      <td>NaN</td>\n",
       "    </tr>\n",
       "    <tr>\n",
       "      <th>SellerG</th>\n",
       "      <td>13741</td>\n",
       "      <td>296</td>\n",
       "      <td>Nelson</td>\n",
       "      <td>1344</td>\n",
       "      <td>NaN</td>\n",
       "      <td>NaN</td>\n",
       "      <td>NaN</td>\n",
       "      <td>NaN</td>\n",
       "      <td>NaN</td>\n",
       "      <td>NaN</td>\n",
       "      <td>NaN</td>\n",
       "    </tr>\n",
       "    <tr>\n",
       "      <th>Date</th>\n",
       "      <td>13741</td>\n",
       "      <td>78</td>\n",
       "      <td>28/10/2017</td>\n",
       "      <td>430</td>\n",
       "      <td>NaN</td>\n",
       "      <td>NaN</td>\n",
       "      <td>NaN</td>\n",
       "      <td>NaN</td>\n",
       "      <td>NaN</td>\n",
       "      <td>NaN</td>\n",
       "      <td>NaN</td>\n",
       "    </tr>\n",
       "    <tr>\n",
       "      <th>Distance</th>\n",
       "      <td>13741</td>\n",
       "      <td>NaN</td>\n",
       "      <td>NaN</td>\n",
       "      <td>NaN</td>\n",
       "      <td>11.3526</td>\n",
       "      <td>7.09431</td>\n",
       "      <td>0</td>\n",
       "      <td>6.4</td>\n",
       "      <td>10.2</td>\n",
       "      <td>14.2</td>\n",
       "      <td>48.1</td>\n",
       "    </tr>\n",
       "    <tr>\n",
       "      <th>Postcode</th>\n",
       "      <td>13741</td>\n",
       "      <td>NaN</td>\n",
       "      <td>NaN</td>\n",
       "      <td>NaN</td>\n",
       "      <td>3118</td>\n",
       "      <td>119.664</td>\n",
       "      <td>3000</td>\n",
       "      <td>3046</td>\n",
       "      <td>3101</td>\n",
       "      <td>3156</td>\n",
       "      <td>3978</td>\n",
       "    </tr>\n",
       "    <tr>\n",
       "      <th>Bedroom2</th>\n",
       "      <td>13741</td>\n",
       "      <td>NaN</td>\n",
       "      <td>NaN</td>\n",
       "      <td>NaN</td>\n",
       "      <td>3.12612</td>\n",
       "      <td>0.975032</td>\n",
       "      <td>0</td>\n",
       "      <td>3</td>\n",
       "      <td>3</td>\n",
       "      <td>4</td>\n",
       "      <td>12</td>\n",
       "    </tr>\n",
       "    <tr>\n",
       "      <th>Bathroom</th>\n",
       "      <td>13741</td>\n",
       "      <td>NaN</td>\n",
       "      <td>NaN</td>\n",
       "      <td>NaN</td>\n",
       "      <td>1.69114</td>\n",
       "      <td>0.737793</td>\n",
       "      <td>1</td>\n",
       "      <td>1</td>\n",
       "      <td>2</td>\n",
       "      <td>2</td>\n",
       "      <td>9</td>\n",
       "    </tr>\n",
       "    <tr>\n",
       "      <th>Car</th>\n",
       "      <td>13509</td>\n",
       "      <td>NaN</td>\n",
       "      <td>NaN</td>\n",
       "      <td>NaN</td>\n",
       "      <td>1.72293</td>\n",
       "      <td>1.00752</td>\n",
       "      <td>0</td>\n",
       "      <td>1</td>\n",
       "      <td>2</td>\n",
       "      <td>2</td>\n",
       "      <td>26</td>\n",
       "    </tr>\n",
       "    <tr>\n",
       "      <th>Landsize</th>\n",
       "      <td>12139</td>\n",
       "      <td>NaN</td>\n",
       "      <td>NaN</td>\n",
       "      <td>NaN</td>\n",
       "      <td>527.161</td>\n",
       "      <td>1063.2</td>\n",
       "      <td>0</td>\n",
       "      <td>212</td>\n",
       "      <td>479</td>\n",
       "      <td>656</td>\n",
       "      <td>42800</td>\n",
       "    </tr>\n",
       "    <tr>\n",
       "      <th>BuildingArea</th>\n",
       "      <td>13741</td>\n",
       "      <td>NaN</td>\n",
       "      <td>NaN</td>\n",
       "      <td>NaN</td>\n",
       "      <td>157.028</td>\n",
       "      <td>133.54</td>\n",
       "      <td>0</td>\n",
       "      <td>102</td>\n",
       "      <td>136</td>\n",
       "      <td>188</td>\n",
       "      <td>6791</td>\n",
       "    </tr>\n",
       "    <tr>\n",
       "      <th>CouncilArea</th>\n",
       "      <td>13741</td>\n",
       "      <td>33</td>\n",
       "      <td>Boroondara City Council</td>\n",
       "      <td>1390</td>\n",
       "      <td>NaN</td>\n",
       "      <td>NaN</td>\n",
       "      <td>NaN</td>\n",
       "      <td>NaN</td>\n",
       "      <td>NaN</td>\n",
       "      <td>NaN</td>\n",
       "      <td>NaN</td>\n",
       "    </tr>\n",
       "    <tr>\n",
       "      <th>Regionname</th>\n",
       "      <td>13741</td>\n",
       "      <td>8</td>\n",
       "      <td>Southern Metropolitan</td>\n",
       "      <td>4451</td>\n",
       "      <td>NaN</td>\n",
       "      <td>NaN</td>\n",
       "      <td>NaN</td>\n",
       "      <td>NaN</td>\n",
       "      <td>NaN</td>\n",
       "      <td>NaN</td>\n",
       "      <td>NaN</td>\n",
       "    </tr>\n",
       "    <tr>\n",
       "      <th>Propertycount</th>\n",
       "      <td>13741</td>\n",
       "      <td>NaN</td>\n",
       "      <td>NaN</td>\n",
       "      <td>NaN</td>\n",
       "      <td>7486.27</td>\n",
       "      <td>4314.33</td>\n",
       "      <td>129</td>\n",
       "      <td>4387</td>\n",
       "      <td>6567</td>\n",
       "      <td>10331</td>\n",
       "      <td>21650</td>\n",
       "    </tr>\n",
       "  </tbody>\n",
       "</table>\n",
       "</div>"
      ],
      "text/plain": [
       "               count unique                      top   freq         mean  \\\n",
       "Suburb         13741    326                Reservoir    259          NaN   \n",
       "Address        13741  13488            25 William St      4          NaN   \n",
       "Rooms          13741    NaN                      NaN    NaN      3.14824   \n",
       "Type           13741      3                        h  10412          NaN   \n",
       "Price          10655    NaN                      NaN    NaN  1.08703e+06   \n",
       "Method         13741      9                        S   7644          NaN   \n",
       "SellerG        13741    296                   Nelson   1344          NaN   \n",
       "Date           13741     78               28/10/2017    430          NaN   \n",
       "Distance       13741    NaN                      NaN    NaN      11.3526   \n",
       "Postcode       13741    NaN                      NaN    NaN         3118   \n",
       "Bedroom2       13741    NaN                      NaN    NaN      3.12612   \n",
       "Bathroom       13741    NaN                      NaN    NaN      1.69114   \n",
       "Car            13509    NaN                      NaN    NaN      1.72293   \n",
       "Landsize       12139    NaN                      NaN    NaN      527.161   \n",
       "BuildingArea   13741    NaN                      NaN    NaN      157.028   \n",
       "CouncilArea    13741     33  Boroondara City Council   1390          NaN   \n",
       "Regionname     13741      8    Southern Metropolitan   4451          NaN   \n",
       "Propertycount  13741    NaN                      NaN    NaN      7486.27   \n",
       "\n",
       "                    std     min     25%     50%       75%    max  \n",
       "Suburb              NaN     NaN     NaN     NaN       NaN    NaN  \n",
       "Address             NaN     NaN     NaN     NaN       NaN    NaN  \n",
       "Rooms           0.97356       1       3       3         4     12  \n",
       "Type                NaN     NaN     NaN     NaN       NaN    NaN  \n",
       "Price            677203  131000  640000  892500  1.33e+06  9e+06  \n",
       "Method              NaN     NaN     NaN     NaN       NaN    NaN  \n",
       "SellerG             NaN     NaN     NaN     NaN       NaN    NaN  \n",
       "Date                NaN     NaN     NaN     NaN       NaN    NaN  \n",
       "Distance        7.09431       0     6.4    10.2      14.2   48.1  \n",
       "Postcode        119.664    3000    3046    3101      3156   3978  \n",
       "Bedroom2       0.975032       0       3       3         4     12  \n",
       "Bathroom       0.737793       1       1       2         2      9  \n",
       "Car             1.00752       0       1       2         2     26  \n",
       "Landsize         1063.2       0     212     479       656  42800  \n",
       "BuildingArea     133.54       0     102     136       188   6791  \n",
       "CouncilArea         NaN     NaN     NaN     NaN       NaN    NaN  \n",
       "Regionname          NaN     NaN     NaN     NaN       NaN    NaN  \n",
       "Propertycount   4314.33     129    4387    6567     10331  21650  "
      ]
     },
     "execution_count": 25,
     "metadata": {},
     "output_type": "execute_result"
    }
   ],
   "source": [
    "data.describe(include='all').T"
   ]
  },
  {
   "cell_type": "markdown",
   "metadata": {},
   "source": [
    "We dropped alot of data but an amount of the other NaNs has been removed as well."
   ]
  },
  {
   "cell_type": "markdown",
   "metadata": {},
   "source": [
    "### - Landsize ###"
   ]
  },
  {
   "cell_type": "code",
   "execution_count": 26,
   "metadata": {},
   "outputs": [
    {
     "data": {
      "text/plain": [
       "NaN         1602\n",
       " 0.0        1327\n",
       " 650.0        94\n",
       " 697.0        53\n",
       " 700.0        47\n",
       " 534.0        45\n",
       " 400.0        42\n",
       " 585.0        42\n",
       " 604.0        41\n",
       " 600.0        37\n",
       " 448.0        36\n",
       " 696.0        34\n",
       " 652.0        34\n",
       " 660.0        33\n",
       " 580.0        32\n",
       " 613.0        32\n",
       " 695.0        32\n",
       " 557.0        31\n",
       " 581.0        30\n",
       " 651.0        30\n",
       " 590.0        30\n",
       " 530.0        30\n",
       " 653.0        30\n",
       " 612.0        28\n",
       " 603.0        28\n",
       " 602.0        28\n",
       " 630.0        28\n",
       " 589.0        28\n",
       " 605.0        27\n",
       " 531.0        27\n",
       "            ... \n",
       " 1678.0        1\n",
       " 2488.0        1\n",
       " 1453.0        1\n",
       " 1116.0        1\n",
       " 1966.0        1\n",
       " 1439.0        1\n",
       " 1317.0        1\n",
       " 1222.0        1\n",
       " 1484.0        1\n",
       " 3701.0        1\n",
       " 908.0         1\n",
       " 4676.0        1\n",
       " 1339.0        1\n",
       " 1353.0        1\n",
       " 1155.0        1\n",
       " 5042.0        1\n",
       " 3967.0        1\n",
       " 1334.0        1\n",
       " 2920.0        1\n",
       " 4655.0        1\n",
       " 1237.0        1\n",
       " 2955.0        1\n",
       " 23970.0       1\n",
       " 1384.0        1\n",
       " 1008.0        1\n",
       " 1241.0        1\n",
       " 4401.0        1\n",
       " 1405.0        1\n",
       " 1258.0        1\n",
       " 8220.0        1\n",
       "Name: Landsize, Length: 1361, dtype: int64"
      ]
     },
     "execution_count": 26,
     "metadata": {},
     "output_type": "execute_result"
    }
   ],
   "source": [
    "data.Landsize.value_counts(dropna=False)"
   ]
  },
  {
   "cell_type": "markdown",
   "metadata": {},
   "source": [
    "According to the data, we might guess the NaNs data can be replaced with the mode = 0, implying the house only have building area which also makes sense."
   ]
  },
  {
   "cell_type": "code",
   "execution_count": 27,
   "metadata": {},
   "outputs": [],
   "source": [
    "data.Landsize.fillna(value=0, inplace=True) # using mode() does not work -> resort to hardcode value 0"
   ]
  },
  {
   "cell_type": "markdown",
   "metadata": {},
   "source": [
    "### - Car ###"
   ]
  },
  {
   "cell_type": "code",
   "execution_count": 28,
   "metadata": {},
   "outputs": [
    {
     "data": {
      "text/plain": [
       " 2.0     6347\n",
       " 1.0     4778\n",
       " 0.0      823\n",
       " 3.0      813\n",
       " 4.0      563\n",
       "NaN       232\n",
       " 6.0       81\n",
       " 5.0       75\n",
       " 7.0       12\n",
       " 8.0       10\n",
       " 9.0        2\n",
       " 10.0       2\n",
       " 26.0       1\n",
       " 11.0       1\n",
       " 12.0       1\n",
       "Name: Car, dtype: int64"
      ]
     },
     "execution_count": 28,
     "metadata": {},
     "output_type": "execute_result"
    }
   ],
   "source": [
    "data.Car.value_counts(dropna=False)"
   ]
  },
  {
   "cell_type": "markdown",
   "metadata": {},
   "source": [
    "In this case, it makes sense to replace the NaNs with 0."
   ]
  },
  {
   "cell_type": "code",
   "execution_count": 29,
   "metadata": {},
   "outputs": [],
   "source": [
    "data.Car.fillna(value=0, inplace=True)"
   ]
  },
  {
   "cell_type": "markdown",
   "metadata": {},
   "source": [
    "### - Price ###"
   ]
  },
  {
   "cell_type": "markdown",
   "metadata": {},
   "source": [
    "This feature is important as it is the output of the upcoming regression model. To train the model, we need all of its data, and the NaNs can be replaced with anything. But at the cost of droping all of the NaNs rows in price, we might miss out on data. Hence, I suggest creating another dataframe for regression while using the old dataframe for data exploration."
   ]
  },
  {
   "cell_type": "code",
   "execution_count": 30,
   "metadata": {},
   "outputs": [],
   "source": [
    "import copy\n",
    "data_regr = copy.copy(data[pd.notnull(data['Price'])])"
   ]
  },
  {
   "cell_type": "code",
   "execution_count": 31,
   "metadata": {},
   "outputs": [
    {
     "data": {
      "text/html": [
       "<div>\n",
       "<style scoped>\n",
       "    .dataframe tbody tr th:only-of-type {\n",
       "        vertical-align: middle;\n",
       "    }\n",
       "\n",
       "    .dataframe tbody tr th {\n",
       "        vertical-align: top;\n",
       "    }\n",
       "\n",
       "    .dataframe thead th {\n",
       "        text-align: right;\n",
       "    }\n",
       "</style>\n",
       "<table border=\"1\" class=\"dataframe\">\n",
       "  <thead>\n",
       "    <tr style=\"text-align: right;\">\n",
       "      <th></th>\n",
       "      <th>count</th>\n",
       "      <th>unique</th>\n",
       "      <th>top</th>\n",
       "      <th>freq</th>\n",
       "      <th>mean</th>\n",
       "      <th>std</th>\n",
       "      <th>min</th>\n",
       "      <th>25%</th>\n",
       "      <th>50%</th>\n",
       "      <th>75%</th>\n",
       "      <th>max</th>\n",
       "    </tr>\n",
       "  </thead>\n",
       "  <tbody>\n",
       "    <tr>\n",
       "      <th>Suburb</th>\n",
       "      <td>10655</td>\n",
       "      <td>324</td>\n",
       "      <td>Reservoir</td>\n",
       "      <td>225</td>\n",
       "      <td>NaN</td>\n",
       "      <td>NaN</td>\n",
       "      <td>NaN</td>\n",
       "      <td>NaN</td>\n",
       "      <td>NaN</td>\n",
       "      <td>NaN</td>\n",
       "      <td>NaN</td>\n",
       "    </tr>\n",
       "    <tr>\n",
       "      <th>Address</th>\n",
       "      <td>10655</td>\n",
       "      <td>10497</td>\n",
       "      <td>1/1 Clarendon St</td>\n",
       "      <td>3</td>\n",
       "      <td>NaN</td>\n",
       "      <td>NaN</td>\n",
       "      <td>NaN</td>\n",
       "      <td>NaN</td>\n",
       "      <td>NaN</td>\n",
       "      <td>NaN</td>\n",
       "      <td>NaN</td>\n",
       "    </tr>\n",
       "    <tr>\n",
       "      <th>Rooms</th>\n",
       "      <td>10655</td>\n",
       "      <td>NaN</td>\n",
       "      <td>NaN</td>\n",
       "      <td>NaN</td>\n",
       "      <td>3.10699</td>\n",
       "      <td>0.960259</td>\n",
       "      <td>1</td>\n",
       "      <td>3</td>\n",
       "      <td>3</td>\n",
       "      <td>4</td>\n",
       "      <td>12</td>\n",
       "    </tr>\n",
       "    <tr>\n",
       "      <th>Type</th>\n",
       "      <td>10655</td>\n",
       "      <td>3</td>\n",
       "      <td>h</td>\n",
       "      <td>7942</td>\n",
       "      <td>NaN</td>\n",
       "      <td>NaN</td>\n",
       "      <td>NaN</td>\n",
       "      <td>NaN</td>\n",
       "      <td>NaN</td>\n",
       "      <td>NaN</td>\n",
       "      <td>NaN</td>\n",
       "    </tr>\n",
       "    <tr>\n",
       "      <th>Price</th>\n",
       "      <td>10655</td>\n",
       "      <td>NaN</td>\n",
       "      <td>NaN</td>\n",
       "      <td>NaN</td>\n",
       "      <td>1.08703e+06</td>\n",
       "      <td>677203</td>\n",
       "      <td>131000</td>\n",
       "      <td>640000</td>\n",
       "      <td>892500</td>\n",
       "      <td>1.33e+06</td>\n",
       "      <td>9e+06</td>\n",
       "    </tr>\n",
       "    <tr>\n",
       "      <th>Method</th>\n",
       "      <td>10655</td>\n",
       "      <td>5</td>\n",
       "      <td>S</td>\n",
       "      <td>6740</td>\n",
       "      <td>NaN</td>\n",
       "      <td>NaN</td>\n",
       "      <td>NaN</td>\n",
       "      <td>NaN</td>\n",
       "      <td>NaN</td>\n",
       "      <td>NaN</td>\n",
       "      <td>NaN</td>\n",
       "    </tr>\n",
       "    <tr>\n",
       "      <th>SellerG</th>\n",
       "      <td>10655</td>\n",
       "      <td>268</td>\n",
       "      <td>Nelson</td>\n",
       "      <td>1135</td>\n",
       "      <td>NaN</td>\n",
       "      <td>NaN</td>\n",
       "      <td>NaN</td>\n",
       "      <td>NaN</td>\n",
       "      <td>NaN</td>\n",
       "      <td>NaN</td>\n",
       "      <td>NaN</td>\n",
       "    </tr>\n",
       "    <tr>\n",
       "      <th>Date</th>\n",
       "      <td>10655</td>\n",
       "      <td>77</td>\n",
       "      <td>28/10/2017</td>\n",
       "      <td>331</td>\n",
       "      <td>NaN</td>\n",
       "      <td>NaN</td>\n",
       "      <td>NaN</td>\n",
       "      <td>NaN</td>\n",
       "      <td>NaN</td>\n",
       "      <td>NaN</td>\n",
       "      <td>NaN</td>\n",
       "    </tr>\n",
       "    <tr>\n",
       "      <th>Distance</th>\n",
       "      <td>10655</td>\n",
       "      <td>NaN</td>\n",
       "      <td>NaN</td>\n",
       "      <td>NaN</td>\n",
       "      <td>11.4876</td>\n",
       "      <td>7.12074</td>\n",
       "      <td>0</td>\n",
       "      <td>6.4</td>\n",
       "      <td>10.4</td>\n",
       "      <td>14.3</td>\n",
       "      <td>48.1</td>\n",
       "    </tr>\n",
       "    <tr>\n",
       "      <th>Postcode</th>\n",
       "      <td>10655</td>\n",
       "      <td>NaN</td>\n",
       "      <td>NaN</td>\n",
       "      <td>NaN</td>\n",
       "      <td>3115.61</td>\n",
       "      <td>122.167</td>\n",
       "      <td>3000</td>\n",
       "      <td>3044</td>\n",
       "      <td>3084</td>\n",
       "      <td>3153</td>\n",
       "      <td>3978</td>\n",
       "    </tr>\n",
       "    <tr>\n",
       "      <th>Bedroom2</th>\n",
       "      <td>10655</td>\n",
       "      <td>NaN</td>\n",
       "      <td>NaN</td>\n",
       "      <td>NaN</td>\n",
       "      <td>3.08869</td>\n",
       "      <td>0.962464</td>\n",
       "      <td>0</td>\n",
       "      <td>2</td>\n",
       "      <td>3</td>\n",
       "      <td>4</td>\n",
       "      <td>12</td>\n",
       "    </tr>\n",
       "    <tr>\n",
       "      <th>Bathroom</th>\n",
       "      <td>10655</td>\n",
       "      <td>NaN</td>\n",
       "      <td>NaN</td>\n",
       "      <td>NaN</td>\n",
       "      <td>1.65847</td>\n",
       "      <td>0.719031</td>\n",
       "      <td>1</td>\n",
       "      <td>1</td>\n",
       "      <td>2</td>\n",
       "      <td>2</td>\n",
       "      <td>9</td>\n",
       "    </tr>\n",
       "    <tr>\n",
       "      <th>Car</th>\n",
       "      <td>10655</td>\n",
       "      <td>NaN</td>\n",
       "      <td>NaN</td>\n",
       "      <td>NaN</td>\n",
       "      <td>1.68165</td>\n",
       "      <td>0.986685</td>\n",
       "      <td>0</td>\n",
       "      <td>1</td>\n",
       "      <td>2</td>\n",
       "      <td>2</td>\n",
       "      <td>10</td>\n",
       "    </tr>\n",
       "    <tr>\n",
       "      <th>Landsize</th>\n",
       "      <td>10655</td>\n",
       "      <td>NaN</td>\n",
       "      <td>NaN</td>\n",
       "      <td>NaN</td>\n",
       "      <td>460.161</td>\n",
       "      <td>1067.35</td>\n",
       "      <td>0</td>\n",
       "      <td>116</td>\n",
       "      <td>387</td>\n",
       "      <td>628.5</td>\n",
       "      <td>42800</td>\n",
       "    </tr>\n",
       "    <tr>\n",
       "      <th>BuildingArea</th>\n",
       "      <td>10655</td>\n",
       "      <td>NaN</td>\n",
       "      <td>NaN</td>\n",
       "      <td>NaN</td>\n",
       "      <td>152.671</td>\n",
       "      <td>130.83</td>\n",
       "      <td>0</td>\n",
       "      <td>100</td>\n",
       "      <td>133</td>\n",
       "      <td>181.8</td>\n",
       "      <td>6791</td>\n",
       "    </tr>\n",
       "    <tr>\n",
       "      <th>CouncilArea</th>\n",
       "      <td>10655</td>\n",
       "      <td>33</td>\n",
       "      <td>Boroondara City Council</td>\n",
       "      <td>919</td>\n",
       "      <td>NaN</td>\n",
       "      <td>NaN</td>\n",
       "      <td>NaN</td>\n",
       "      <td>NaN</td>\n",
       "      <td>NaN</td>\n",
       "      <td>NaN</td>\n",
       "      <td>NaN</td>\n",
       "    </tr>\n",
       "    <tr>\n",
       "      <th>Regionname</th>\n",
       "      <td>10655</td>\n",
       "      <td>8</td>\n",
       "      <td>Northern Metropolitan</td>\n",
       "      <td>3145</td>\n",
       "      <td>NaN</td>\n",
       "      <td>NaN</td>\n",
       "      <td>NaN</td>\n",
       "      <td>NaN</td>\n",
       "      <td>NaN</td>\n",
       "      <td>NaN</td>\n",
       "      <td>NaN</td>\n",
       "    </tr>\n",
       "    <tr>\n",
       "      <th>Propertycount</th>\n",
       "      <td>10655</td>\n",
       "      <td>NaN</td>\n",
       "      <td>NaN</td>\n",
       "      <td>NaN</td>\n",
       "      <td>7475</td>\n",
       "      <td>4378.64</td>\n",
       "      <td>249</td>\n",
       "      <td>4380</td>\n",
       "      <td>6543</td>\n",
       "      <td>10331</td>\n",
       "      <td>21650</td>\n",
       "    </tr>\n",
       "  </tbody>\n",
       "</table>\n",
       "</div>"
      ],
      "text/plain": [
       "               count unique                      top  freq         mean  \\\n",
       "Suburb         10655    324                Reservoir   225          NaN   \n",
       "Address        10655  10497         1/1 Clarendon St     3          NaN   \n",
       "Rooms          10655    NaN                      NaN   NaN      3.10699   \n",
       "Type           10655      3                        h  7942          NaN   \n",
       "Price          10655    NaN                      NaN   NaN  1.08703e+06   \n",
       "Method         10655      5                        S  6740          NaN   \n",
       "SellerG        10655    268                   Nelson  1135          NaN   \n",
       "Date           10655     77               28/10/2017   331          NaN   \n",
       "Distance       10655    NaN                      NaN   NaN      11.4876   \n",
       "Postcode       10655    NaN                      NaN   NaN      3115.61   \n",
       "Bedroom2       10655    NaN                      NaN   NaN      3.08869   \n",
       "Bathroom       10655    NaN                      NaN   NaN      1.65847   \n",
       "Car            10655    NaN                      NaN   NaN      1.68165   \n",
       "Landsize       10655    NaN                      NaN   NaN      460.161   \n",
       "BuildingArea   10655    NaN                      NaN   NaN      152.671   \n",
       "CouncilArea    10655     33  Boroondara City Council   919          NaN   \n",
       "Regionname     10655      8    Northern Metropolitan  3145          NaN   \n",
       "Propertycount  10655    NaN                      NaN   NaN         7475   \n",
       "\n",
       "                    std     min     25%     50%       75%    max  \n",
       "Suburb              NaN     NaN     NaN     NaN       NaN    NaN  \n",
       "Address             NaN     NaN     NaN     NaN       NaN    NaN  \n",
       "Rooms          0.960259       1       3       3         4     12  \n",
       "Type                NaN     NaN     NaN     NaN       NaN    NaN  \n",
       "Price            677203  131000  640000  892500  1.33e+06  9e+06  \n",
       "Method              NaN     NaN     NaN     NaN       NaN    NaN  \n",
       "SellerG             NaN     NaN     NaN     NaN       NaN    NaN  \n",
       "Date                NaN     NaN     NaN     NaN       NaN    NaN  \n",
       "Distance        7.12074       0     6.4    10.4      14.3   48.1  \n",
       "Postcode        122.167    3000    3044    3084      3153   3978  \n",
       "Bedroom2       0.962464       0       2       3         4     12  \n",
       "Bathroom       0.719031       1       1       2         2      9  \n",
       "Car            0.986685       0       1       2         2     10  \n",
       "Landsize        1067.35       0     116     387     628.5  42800  \n",
       "BuildingArea     130.83       0     100     133     181.8   6791  \n",
       "CouncilArea         NaN     NaN     NaN     NaN       NaN    NaN  \n",
       "Regionname          NaN     NaN     NaN     NaN       NaN    NaN  \n",
       "Propertycount   4378.64     249    4380    6543     10331  21650  "
      ]
     },
     "execution_count": 31,
     "metadata": {},
     "output_type": "execute_result"
    }
   ],
   "source": [
    "data_regr.describe(include='all').T"
   ]
  },
  {
   "cell_type": "markdown",
   "metadata": {},
   "source": [
    "I want to check out other columns to see if there is any problems in the data"
   ]
  },
  {
   "cell_type": "code",
   "execution_count": 32,
   "metadata": {},
   "outputs": [
    {
     "data": {
      "text/plain": [
       "3     5844\n",
       "4     3603\n",
       "2     2794\n",
       "5      894\n",
       "1      483\n",
       "6      100\n",
       "7       15\n",
       "8        6\n",
       "12       1\n",
       "10       1\n",
       "Name: Rooms, dtype: int64"
      ]
     },
     "execution_count": 32,
     "metadata": {},
     "output_type": "execute_result"
    }
   ],
   "source": [
    "data.Rooms.value_counts()"
   ]
  },
  {
   "cell_type": "code",
   "execution_count": 33,
   "metadata": {
    "scrolled": true
   },
   "outputs": [
    {
     "data": {
      "text/plain": [
       "h    10412\n",
       "u     2197\n",
       "t     1132\n",
       "Name: Type, dtype: int64"
      ]
     },
     "execution_count": 33,
     "metadata": {},
     "output_type": "execute_result"
    }
   ],
   "source": [
    "data.Type.value_counts()"
   ]
  },
  {
   "cell_type": "code",
   "execution_count": 34,
   "metadata": {},
   "outputs": [
    {
     "data": {
      "text/plain": [
       "S     7644\n",
       "SP    2167\n",
       "PI    1888\n",
       "VB    1171\n",
       "SN     568\n",
       "PN     136\n",
       "SA      86\n",
       "W       72\n",
       "SS       9\n",
       "Name: Method, dtype: int64"
      ]
     },
     "execution_count": 34,
     "metadata": {},
     "output_type": "execute_result"
    }
   ],
   "source": [
    "data.Method.value_counts()"
   ]
  },
  {
   "cell_type": "code",
   "execution_count": 35,
   "metadata": {},
   "outputs": [
    {
     "data": {
      "text/plain": [
       "Boroondara City Council           1390\n",
       "Darebin City Council              1040\n",
       "Moreland City Council              888\n",
       "Melbourne City Council             764\n",
       "Glen Eira City Council             745\n",
       "Moonee Valley City Council         713\n",
       "Maribyrnong City Council           669\n",
       "Banyule City Council               649\n",
       "Bayside City Council               625\n",
       "Brimbank City Council              601\n",
       "Hume City Council                  577\n",
       "Monash City Council                528\n",
       "Stonnington City Council           523\n",
       "Port Phillip City Council          513\n",
       "Yarra City Council                 502\n",
       "Hobsons Bay City Council           409\n",
       "Manningham City Council            385\n",
       "Whittlesea City Council            373\n",
       "Kingston City Council              320\n",
       "Wyndham City Council               301\n",
       "Whitehorse City Council            222\n",
       "Maroondah City Council             209\n",
       "Melton City Council                170\n",
       "Knox City Council                  159\n",
       "Frankston City Council             141\n",
       "Greater Dandenong City Council     111\n",
       "Casey City Council                  83\n",
       "Nillumbik Shire Council             44\n",
       "Yarra Ranges Shire Council          34\n",
       "Macedon Ranges Shire Council        21\n",
       "Cardinia Shire Council              20\n",
       "Mitchell Shire Council              11\n",
       "Moorabool Shire Council              1\n",
       "Name: CouncilArea, dtype: int64"
      ]
     },
     "execution_count": 35,
     "metadata": {},
     "output_type": "execute_result"
    }
   ],
   "source": [
    "data.CouncilArea.value_counts()"
   ]
  },
  {
   "cell_type": "markdown",
   "metadata": {},
   "source": [
    " # Data Exploration #"
   ]
  },
  {
   "cell_type": "code",
   "execution_count": 36,
   "metadata": {},
   "outputs": [
    {
     "data": {
      "text/html": [
       "<div>\n",
       "<style scoped>\n",
       "    .dataframe tbody tr th:only-of-type {\n",
       "        vertical-align: middle;\n",
       "    }\n",
       "\n",
       "    .dataframe tbody tr th {\n",
       "        vertical-align: top;\n",
       "    }\n",
       "\n",
       "    .dataframe thead th {\n",
       "        text-align: right;\n",
       "    }\n",
       "</style>\n",
       "<table border=\"1\" class=\"dataframe\">\n",
       "  <thead>\n",
       "    <tr style=\"text-align: right;\">\n",
       "      <th></th>\n",
       "      <th>count</th>\n",
       "      <th>mean</th>\n",
       "      <th>std</th>\n",
       "      <th>min</th>\n",
       "      <th>25%</th>\n",
       "      <th>50%</th>\n",
       "      <th>75%</th>\n",
       "      <th>max</th>\n",
       "    </tr>\n",
       "  </thead>\n",
       "  <tbody>\n",
       "    <tr>\n",
       "      <th>Rooms</th>\n",
       "      <td>13741.0</td>\n",
       "      <td>3.148242e+00</td>\n",
       "      <td>0.973560</td>\n",
       "      <td>1.0</td>\n",
       "      <td>3.0</td>\n",
       "      <td>3.0</td>\n",
       "      <td>4.0</td>\n",
       "      <td>12.0</td>\n",
       "    </tr>\n",
       "    <tr>\n",
       "      <th>Price</th>\n",
       "      <td>10655.0</td>\n",
       "      <td>1.087025e+06</td>\n",
       "      <td>677202.918128</td>\n",
       "      <td>131000.0</td>\n",
       "      <td>640000.0</td>\n",
       "      <td>892500.0</td>\n",
       "      <td>1330000.0</td>\n",
       "      <td>9000000.0</td>\n",
       "    </tr>\n",
       "    <tr>\n",
       "      <th>Distance</th>\n",
       "      <td>13741.0</td>\n",
       "      <td>1.135260e+01</td>\n",
       "      <td>7.094310</td>\n",
       "      <td>0.0</td>\n",
       "      <td>6.4</td>\n",
       "      <td>10.2</td>\n",
       "      <td>14.2</td>\n",
       "      <td>48.1</td>\n",
       "    </tr>\n",
       "    <tr>\n",
       "      <th>Postcode</th>\n",
       "      <td>13741.0</td>\n",
       "      <td>3.118001e+03</td>\n",
       "      <td>119.663572</td>\n",
       "      <td>3000.0</td>\n",
       "      <td>3046.0</td>\n",
       "      <td>3101.0</td>\n",
       "      <td>3156.0</td>\n",
       "      <td>3978.0</td>\n",
       "    </tr>\n",
       "    <tr>\n",
       "      <th>Bedroom2</th>\n",
       "      <td>13741.0</td>\n",
       "      <td>3.126119e+00</td>\n",
       "      <td>0.975032</td>\n",
       "      <td>0.0</td>\n",
       "      <td>3.0</td>\n",
       "      <td>3.0</td>\n",
       "      <td>4.0</td>\n",
       "      <td>12.0</td>\n",
       "    </tr>\n",
       "    <tr>\n",
       "      <th>Bathroom</th>\n",
       "      <td>13741.0</td>\n",
       "      <td>1.691143e+00</td>\n",
       "      <td>0.737793</td>\n",
       "      <td>1.0</td>\n",
       "      <td>1.0</td>\n",
       "      <td>2.0</td>\n",
       "      <td>2.0</td>\n",
       "      <td>9.0</td>\n",
       "    </tr>\n",
       "    <tr>\n",
       "      <th>Car</th>\n",
       "      <td>13741.0</td>\n",
       "      <td>1.693836e+00</td>\n",
       "      <td>1.023344</td>\n",
       "      <td>0.0</td>\n",
       "      <td>1.0</td>\n",
       "      <td>2.0</td>\n",
       "      <td>2.0</td>\n",
       "      <td>26.0</td>\n",
       "    </tr>\n",
       "    <tr>\n",
       "      <th>Landsize</th>\n",
       "      <td>13741.0</td>\n",
       "      <td>4.657016e+02</td>\n",
       "      <td>1013.521599</td>\n",
       "      <td>0.0</td>\n",
       "      <td>126.0</td>\n",
       "      <td>396.0</td>\n",
       "      <td>641.0</td>\n",
       "      <td>42800.0</td>\n",
       "    </tr>\n",
       "    <tr>\n",
       "      <th>BuildingArea</th>\n",
       "      <td>13741.0</td>\n",
       "      <td>1.570285e+02</td>\n",
       "      <td>133.539909</td>\n",
       "      <td>0.0</td>\n",
       "      <td>102.0</td>\n",
       "      <td>136.0</td>\n",
       "      <td>188.0</td>\n",
       "      <td>6791.0</td>\n",
       "    </tr>\n",
       "    <tr>\n",
       "      <th>Propertycount</th>\n",
       "      <td>13741.0</td>\n",
       "      <td>7.486273e+03</td>\n",
       "      <td>4314.329094</td>\n",
       "      <td>129.0</td>\n",
       "      <td>4387.0</td>\n",
       "      <td>6567.0</td>\n",
       "      <td>10331.0</td>\n",
       "      <td>21650.0</td>\n",
       "    </tr>\n",
       "  </tbody>\n",
       "</table>\n",
       "</div>"
      ],
      "text/plain": [
       "                 count          mean            std       min       25%  \\\n",
       "Rooms          13741.0  3.148242e+00       0.973560       1.0       3.0   \n",
       "Price          10655.0  1.087025e+06  677202.918128  131000.0  640000.0   \n",
       "Distance       13741.0  1.135260e+01       7.094310       0.0       6.4   \n",
       "Postcode       13741.0  3.118001e+03     119.663572    3000.0    3046.0   \n",
       "Bedroom2       13741.0  3.126119e+00       0.975032       0.0       3.0   \n",
       "Bathroom       13741.0  1.691143e+00       0.737793       1.0       1.0   \n",
       "Car            13741.0  1.693836e+00       1.023344       0.0       1.0   \n",
       "Landsize       13741.0  4.657016e+02    1013.521599       0.0     126.0   \n",
       "BuildingArea   13741.0  1.570285e+02     133.539909       0.0     102.0   \n",
       "Propertycount  13741.0  7.486273e+03    4314.329094     129.0    4387.0   \n",
       "\n",
       "                    50%        75%        max  \n",
       "Rooms               3.0        4.0       12.0  \n",
       "Price          892500.0  1330000.0  9000000.0  \n",
       "Distance           10.2       14.2       48.1  \n",
       "Postcode         3101.0     3156.0     3978.0  \n",
       "Bedroom2            3.0        4.0       12.0  \n",
       "Bathroom            2.0        2.0        9.0  \n",
       "Car                 2.0        2.0       26.0  \n",
       "Landsize          396.0      641.0    42800.0  \n",
       "BuildingArea      136.0      188.0     6791.0  \n",
       "Propertycount    6567.0    10331.0    21650.0  "
      ]
     },
     "execution_count": 36,
     "metadata": {},
     "output_type": "execute_result"
    }
   ],
   "source": [
    "data.describe().T"
   ]
  },
  {
   "cell_type": "code",
   "execution_count": 37,
   "metadata": {},
   "outputs": [],
   "source": [
    "import seaborn as sns\n",
    "import matplotlib.pyplot as plt\n",
    "from jupyterthemes import jtplot\n",
    "\n",
    "jtplot.style(theme='grade3')"
   ]
  },
  {
   "cell_type": "code",
   "execution_count": 38,
   "metadata": {},
   "outputs": [],
   "source": [
    "corr = data[['Rooms', 'Price', 'Distance', \n",
    "             'Postcode', 'Bedroom2', 'Bathroom', \n",
    "             'Car', 'Landsize', 'BuildingArea', 'Propertycount']].corr()"
   ]
  },
  {
   "cell_type": "code",
   "execution_count": 39,
   "metadata": {},
   "outputs": [
    {
     "data": {
      "text/plain": [
       "<matplotlib.axes._subplots.AxesSubplot at 0x1a167c5160>"
      ]
     },
     "execution_count": 39,
     "metadata": {},
     "output_type": "execute_result"
    },
    {
     "data": {
      "image/png": "[encoded data removed]",
      "text/plain": [
       "<Figure size 432x288 with 2 Axes>"
      ]
     },
     "metadata": {},
     "output_type": "display_data"
    }
   ],
   "source": [
    "sns.heatmap(corr)"
   ]
  },
  {
   "cell_type": "markdown",
   "metadata": {},
   "source": [
    "Looking at the correlation heatmap, we see that:\n",
    "+ **Bedroom2** and **Rooms** have very strong correlation (near to 1)\n",
    "+ **Bathroom** and **Rooms** also have decent correlation"
   ]
  },
  {
   "cell_type": "code",
   "execution_count": 40,
   "metadata": {},
   "outputs": [
    {
     "data": {
      "text/html": [
       "<div>\n",
       "<style scoped>\n",
       "    .dataframe tbody tr th:only-of-type {\n",
       "        vertical-align: middle;\n",
       "    }\n",
       "\n",
       "    .dataframe tbody tr th {\n",
       "        vertical-align: top;\n",
       "    }\n",
       "\n",
       "    .dataframe thead th {\n",
       "        text-align: right;\n",
       "    }\n",
       "</style>\n",
       "<table border=\"1\" class=\"dataframe\">\n",
       "  <thead>\n",
       "    <tr style=\"text-align: right;\">\n",
       "      <th></th>\n",
       "      <th>Rooms</th>\n",
       "      <th>Bedroom2</th>\n",
       "      <th>Bathroom</th>\n",
       "      <th>Price</th>\n",
       "    </tr>\n",
       "  </thead>\n",
       "  <tbody>\n",
       "    <tr>\n",
       "      <th>Rooms</th>\n",
       "      <td>1.000000</td>\n",
       "      <td>0.967827</td>\n",
       "      <td>0.631674</td>\n",
       "      <td>0.464440</td>\n",
       "    </tr>\n",
       "    <tr>\n",
       "      <th>Bedroom2</th>\n",
       "      <td>0.967827</td>\n",
       "      <td>1.000000</td>\n",
       "      <td>0.630326</td>\n",
       "      <td>0.451680</td>\n",
       "    </tr>\n",
       "    <tr>\n",
       "      <th>Bathroom</th>\n",
       "      <td>0.631674</td>\n",
       "      <td>0.630326</td>\n",
       "      <td>1.000000</td>\n",
       "      <td>0.455932</td>\n",
       "    </tr>\n",
       "    <tr>\n",
       "      <th>Price</th>\n",
       "      <td>0.464440</td>\n",
       "      <td>0.451680</td>\n",
       "      <td>0.455932</td>\n",
       "      <td>1.000000</td>\n",
       "    </tr>\n",
       "  </tbody>\n",
       "</table>\n",
       "</div>"
      ],
      "text/plain": [
       "             Rooms  Bedroom2  Bathroom     Price\n",
       "Rooms     1.000000  0.967827  0.631674  0.464440\n",
       "Bedroom2  0.967827  1.000000  0.630326  0.451680\n",
       "Bathroom  0.631674  0.630326  1.000000  0.455932\n",
       "Price     0.464440  0.451680  0.455932  1.000000"
      ]
     },
     "execution_count": 40,
     "metadata": {},
     "output_type": "execute_result"
    }
   ],
   "source": [
    "data[['Rooms','Bedroom2','Bathroom','Price']].corr()"
   ]
  },
  {
   "cell_type": "markdown",
   "metadata": {},
   "source": [
    "We want a closer look in the correlation matrix of these specific features. Because **Rooms** and **Bedroom2** has near 1 correlation value, we should remove one of them to reduce the dimension. According to the matrix, we choose **Rooms** to keep because it has higher correlation value with **Price**"
   ]
  },
  {
   "cell_type": "markdown",
   "metadata": {},
   "source": [
    "Among the features, the number of rooms have very high correlation with **Price** but not the **Landsize**."
   ]
  },
  {
   "cell_type": "code",
   "execution_count": 41,
   "metadata": {},
   "outputs": [],
   "source": [
    "data.drop(columns='Bedroom2', inplace=True)"
   ]
  },
  {
   "cell_type": "code",
   "execution_count": 42,
   "metadata": {},
   "outputs": [],
   "source": [
    "data_regr.drop(columns='Bedroom2', inplace=True)"
   ]
  },
  {
   "cell_type": "code",
   "execution_count": 43,
   "metadata": {},
   "outputs": [
    {
     "data": {
      "text/html": [
       "<div>\n",
       "<style scoped>\n",
       "    .dataframe tbody tr th:only-of-type {\n",
       "        vertical-align: middle;\n",
       "    }\n",
       "\n",
       "    .dataframe tbody tr th {\n",
       "        vertical-align: top;\n",
       "    }\n",
       "\n",
       "    .dataframe thead th {\n",
       "        text-align: right;\n",
       "    }\n",
       "</style>\n",
       "<table border=\"1\" class=\"dataframe\">\n",
       "  <thead>\n",
       "    <tr style=\"text-align: right;\">\n",
       "      <th></th>\n",
       "      <th>count</th>\n",
       "      <th>unique</th>\n",
       "      <th>top</th>\n",
       "      <th>freq</th>\n",
       "      <th>mean</th>\n",
       "      <th>std</th>\n",
       "      <th>min</th>\n",
       "      <th>25%</th>\n",
       "      <th>50%</th>\n",
       "      <th>75%</th>\n",
       "      <th>max</th>\n",
       "    </tr>\n",
       "  </thead>\n",
       "  <tbody>\n",
       "    <tr>\n",
       "      <th>Suburb</th>\n",
       "      <td>13741</td>\n",
       "      <td>326</td>\n",
       "      <td>Reservoir</td>\n",
       "      <td>259</td>\n",
       "      <td>NaN</td>\n",
       "      <td>NaN</td>\n",
       "      <td>NaN</td>\n",
       "      <td>NaN</td>\n",
       "      <td>NaN</td>\n",
       "      <td>NaN</td>\n",
       "      <td>NaN</td>\n",
       "    </tr>\n",
       "    <tr>\n",
       "      <th>Address</th>\n",
       "      <td>13741</td>\n",
       "      <td>13488</td>\n",
       "      <td>25 William St</td>\n",
       "      <td>4</td>\n",
       "      <td>NaN</td>\n",
       "      <td>NaN</td>\n",
       "      <td>NaN</td>\n",
       "      <td>NaN</td>\n",
       "      <td>NaN</td>\n",
       "      <td>NaN</td>\n",
       "      <td>NaN</td>\n",
       "    </tr>\n",
       "    <tr>\n",
       "      <th>Rooms</th>\n",
       "      <td>13741</td>\n",
       "      <td>NaN</td>\n",
       "      <td>NaN</td>\n",
       "      <td>NaN</td>\n",
       "      <td>3.14824</td>\n",
       "      <td>0.97356</td>\n",
       "      <td>1</td>\n",
       "      <td>3</td>\n",
       "      <td>3</td>\n",
       "      <td>4</td>\n",
       "      <td>12</td>\n",
       "    </tr>\n",
       "    <tr>\n",
       "      <th>Type</th>\n",
       "      <td>13741</td>\n",
       "      <td>3</td>\n",
       "      <td>h</td>\n",
       "      <td>10412</td>\n",
       "      <td>NaN</td>\n",
       "      <td>NaN</td>\n",
       "      <td>NaN</td>\n",
       "      <td>NaN</td>\n",
       "      <td>NaN</td>\n",
       "      <td>NaN</td>\n",
       "      <td>NaN</td>\n",
       "    </tr>\n",
       "    <tr>\n",
       "      <th>Price</th>\n",
       "      <td>10655</td>\n",
       "      <td>NaN</td>\n",
       "      <td>NaN</td>\n",
       "      <td>NaN</td>\n",
       "      <td>1.08703e+06</td>\n",
       "      <td>677203</td>\n",
       "      <td>131000</td>\n",
       "      <td>640000</td>\n",
       "      <td>892500</td>\n",
       "      <td>1.33e+06</td>\n",
       "      <td>9e+06</td>\n",
       "    </tr>\n",
       "    <tr>\n",
       "      <th>Method</th>\n",
       "      <td>13741</td>\n",
       "      <td>9</td>\n",
       "      <td>S</td>\n",
       "      <td>7644</td>\n",
       "      <td>NaN</td>\n",
       "      <td>NaN</td>\n",
       "      <td>NaN</td>\n",
       "      <td>NaN</td>\n",
       "      <td>NaN</td>\n",
       "      <td>NaN</td>\n",
       "      <td>NaN</td>\n",
       "    </tr>\n",
       "    <tr>\n",
       "      <th>SellerG</th>\n",
       "      <td>13741</td>\n",
       "      <td>296</td>\n",
       "      <td>Nelson</td>\n",
       "      <td>1344</td>\n",
       "      <td>NaN</td>\n",
       "      <td>NaN</td>\n",
       "      <td>NaN</td>\n",
       "      <td>NaN</td>\n",
       "      <td>NaN</td>\n",
       "      <td>NaN</td>\n",
       "      <td>NaN</td>\n",
       "    </tr>\n",
       "    <tr>\n",
       "      <th>Date</th>\n",
       "      <td>13741</td>\n",
       "      <td>78</td>\n",
       "      <td>28/10/2017</td>\n",
       "      <td>430</td>\n",
       "      <td>NaN</td>\n",
       "      <td>NaN</td>\n",
       "      <td>NaN</td>\n",
       "      <td>NaN</td>\n",
       "      <td>NaN</td>\n",
       "      <td>NaN</td>\n",
       "      <td>NaN</td>\n",
       "    </tr>\n",
       "    <tr>\n",
       "      <th>Distance</th>\n",
       "      <td>13741</td>\n",
       "      <td>NaN</td>\n",
       "      <td>NaN</td>\n",
       "      <td>NaN</td>\n",
       "      <td>11.3526</td>\n",
       "      <td>7.09431</td>\n",
       "      <td>0</td>\n",
       "      <td>6.4</td>\n",
       "      <td>10.2</td>\n",
       "      <td>14.2</td>\n",
       "      <td>48.1</td>\n",
       "    </tr>\n",
       "    <tr>\n",
       "      <th>Postcode</th>\n",
       "      <td>13741</td>\n",
       "      <td>NaN</td>\n",
       "      <td>NaN</td>\n",
       "      <td>NaN</td>\n",
       "      <td>3118</td>\n",
       "      <td>119.664</td>\n",
       "      <td>3000</td>\n",
       "      <td>3046</td>\n",
       "      <td>3101</td>\n",
       "      <td>3156</td>\n",
       "      <td>3978</td>\n",
       "    </tr>\n",
       "    <tr>\n",
       "      <th>Bathroom</th>\n",
       "      <td>13741</td>\n",
       "      <td>NaN</td>\n",
       "      <td>NaN</td>\n",
       "      <td>NaN</td>\n",
       "      <td>1.69114</td>\n",
       "      <td>0.737793</td>\n",
       "      <td>1</td>\n",
       "      <td>1</td>\n",
       "      <td>2</td>\n",
       "      <td>2</td>\n",
       "      <td>9</td>\n",
       "    </tr>\n",
       "    <tr>\n",
       "      <th>Car</th>\n",
       "      <td>13741</td>\n",
       "      <td>NaN</td>\n",
       "      <td>NaN</td>\n",
       "      <td>NaN</td>\n",
       "      <td>1.69384</td>\n",
       "      <td>1.02334</td>\n",
       "      <td>0</td>\n",
       "      <td>1</td>\n",
       "      <td>2</td>\n",
       "      <td>2</td>\n",
       "      <td>26</td>\n",
       "    </tr>\n",
       "    <tr>\n",
       "      <th>Landsize</th>\n",
       "      <td>13741</td>\n",
       "      <td>NaN</td>\n",
       "      <td>NaN</td>\n",
       "      <td>NaN</td>\n",
       "      <td>465.702</td>\n",
       "      <td>1013.52</td>\n",
       "      <td>0</td>\n",
       "      <td>126</td>\n",
       "      <td>396</td>\n",
       "      <td>641</td>\n",
       "      <td>42800</td>\n",
       "    </tr>\n",
       "    <tr>\n",
       "      <th>BuildingArea</th>\n",
       "      <td>13741</td>\n",
       "      <td>NaN</td>\n",
       "      <td>NaN</td>\n",
       "      <td>NaN</td>\n",
       "      <td>157.028</td>\n",
       "      <td>133.54</td>\n",
       "      <td>0</td>\n",
       "      <td>102</td>\n",
       "      <td>136</td>\n",
       "      <td>188</td>\n",
       "      <td>6791</td>\n",
       "    </tr>\n",
       "    <tr>\n",
       "      <th>CouncilArea</th>\n",
       "      <td>13741</td>\n",
       "      <td>33</td>\n",
       "      <td>Boroondara City Council</td>\n",
       "      <td>1390</td>\n",
       "      <td>NaN</td>\n",
       "      <td>NaN</td>\n",
       "      <td>NaN</td>\n",
       "      <td>NaN</td>\n",
       "      <td>NaN</td>\n",
       "      <td>NaN</td>\n",
       "      <td>NaN</td>\n",
       "    </tr>\n",
       "    <tr>\n",
       "      <th>Regionname</th>\n",
       "      <td>13741</td>\n",
       "      <td>8</td>\n",
       "      <td>Southern Metropolitan</td>\n",
       "      <td>4451</td>\n",
       "      <td>NaN</td>\n",
       "      <td>NaN</td>\n",
       "      <td>NaN</td>\n",
       "      <td>NaN</td>\n",
       "      <td>NaN</td>\n",
       "      <td>NaN</td>\n",
       "      <td>NaN</td>\n",
       "    </tr>\n",
       "    <tr>\n",
       "      <th>Propertycount</th>\n",
       "      <td>13741</td>\n",
       "      <td>NaN</td>\n",
       "      <td>NaN</td>\n",
       "      <td>NaN</td>\n",
       "      <td>7486.27</td>\n",
       "      <td>4314.33</td>\n",
       "      <td>129</td>\n",
       "      <td>4387</td>\n",
       "      <td>6567</td>\n",
       "      <td>10331</td>\n",
       "      <td>21650</td>\n",
       "    </tr>\n",
       "  </tbody>\n",
       "</table>\n",
       "</div>"
      ],
      "text/plain": [
       "               count unique                      top   freq         mean  \\\n",
       "Suburb         13741    326                Reservoir    259          NaN   \n",
       "Address        13741  13488            25 William St      4          NaN   \n",
       "Rooms          13741    NaN                      NaN    NaN      3.14824   \n",
       "Type           13741      3                        h  10412          NaN   \n",
       "Price          10655    NaN                      NaN    NaN  1.08703e+06   \n",
       "Method         13741      9                        S   7644          NaN   \n",
       "SellerG        13741    296                   Nelson   1344          NaN   \n",
       "Date           13741     78               28/10/2017    430          NaN   \n",
       "Distance       13741    NaN                      NaN    NaN      11.3526   \n",
       "Postcode       13741    NaN                      NaN    NaN         3118   \n",
       "Bathroom       13741    NaN                      NaN    NaN      1.69114   \n",
       "Car            13741    NaN                      NaN    NaN      1.69384   \n",
       "Landsize       13741    NaN                      NaN    NaN      465.702   \n",
       "BuildingArea   13741    NaN                      NaN    NaN      157.028   \n",
       "CouncilArea    13741     33  Boroondara City Council   1390          NaN   \n",
       "Regionname     13741      8    Southern Metropolitan   4451          NaN   \n",
       "Propertycount  13741    NaN                      NaN    NaN      7486.27   \n",
       "\n",
       "                    std     min     25%     50%       75%    max  \n",
       "Suburb              NaN     NaN     NaN     NaN       NaN    NaN  \n",
       "Address             NaN     NaN     NaN     NaN       NaN    NaN  \n",
       "Rooms           0.97356       1       3       3         4     12  \n",
       "Type                NaN     NaN     NaN     NaN       NaN    NaN  \n",
       "Price            677203  131000  640000  892500  1.33e+06  9e+06  \n",
       "Method              NaN     NaN     NaN     NaN       NaN    NaN  \n",
       "SellerG             NaN     NaN     NaN     NaN       NaN    NaN  \n",
       "Date                NaN     NaN     NaN     NaN       NaN    NaN  \n",
       "Distance        7.09431       0     6.4    10.2      14.2   48.1  \n",
       "Postcode        119.664    3000    3046    3101      3156   3978  \n",
       "Bathroom       0.737793       1       1       2         2      9  \n",
       "Car             1.02334       0       1       2         2     26  \n",
       "Landsize        1013.52       0     126     396       641  42800  \n",
       "BuildingArea     133.54       0     102     136       188   6791  \n",
       "CouncilArea         NaN     NaN     NaN     NaN       NaN    NaN  \n",
       "Regionname          NaN     NaN     NaN     NaN       NaN    NaN  \n",
       "Propertycount   4314.33     129    4387    6567     10331  21650  "
      ]
     },
     "execution_count": 43,
     "metadata": {},
     "output_type": "execute_result"
    }
   ],
   "source": [
    "data.describe(include='all').T"
   ]
  },
  {
   "cell_type": "code",
   "execution_count": 44,
   "metadata": {},
   "outputs": [],
   "source": [
    "#TODO: Date, methode, type"
   ]
  },
  {
   "cell_type": "markdown",
   "metadata": {},
   "source": [
    "# Regression #"
   ]
  },
  {
   "cell_type": "code",
   "execution_count": 45,
   "metadata": {},
   "outputs": [],
   "source": [
    "from sklearn import linear_model\n",
    "from sklearn.model_selection import train_test_split, cross_val_predict\n",
    "from sklearn.metrics import mean_squared_error"
   ]
  },
  {
   "cell_type": "markdown",
   "metadata": {},
   "source": [
    "There are many categorical features in the data, I have to first deal with them one by one before I can perform regression. Let's take a look at the categorical variables:"
   ]
  },
  {
   "cell_type": "code",
   "execution_count": 46,
   "metadata": {},
   "outputs": [
    {
     "data": {
      "text/html": [
       "<div>\n",
       "<style scoped>\n",
       "    .dataframe tbody tr th:only-of-type {\n",
       "        vertical-align: middle;\n",
       "    }\n",
       "\n",
       "    .dataframe tbody tr th {\n",
       "        vertical-align: top;\n",
       "    }\n",
       "\n",
       "    .dataframe thead th {\n",
       "        text-align: right;\n",
       "    }\n",
       "</style>\n",
       "<table border=\"1\" class=\"dataframe\">\n",
       "  <thead>\n",
       "    <tr style=\"text-align: right;\">\n",
       "      <th></th>\n",
       "      <th>count</th>\n",
       "      <th>unique</th>\n",
       "      <th>top</th>\n",
       "      <th>freq</th>\n",
       "    </tr>\n",
       "  </thead>\n",
       "  <tbody>\n",
       "    <tr>\n",
       "      <th>Suburb</th>\n",
       "      <td>10655</td>\n",
       "      <td>324</td>\n",
       "      <td>Reservoir</td>\n",
       "      <td>225</td>\n",
       "    </tr>\n",
       "    <tr>\n",
       "      <th>Address</th>\n",
       "      <td>10655</td>\n",
       "      <td>10497</td>\n",
       "      <td>1/1 Clarendon St</td>\n",
       "      <td>3</td>\n",
       "    </tr>\n",
       "    <tr>\n",
       "      <th>Type</th>\n",
       "      <td>10655</td>\n",
       "      <td>3</td>\n",
       "      <td>h</td>\n",
       "      <td>7942</td>\n",
       "    </tr>\n",
       "    <tr>\n",
       "      <th>Method</th>\n",
       "      <td>10655</td>\n",
       "      <td>5</td>\n",
       "      <td>S</td>\n",
       "      <td>6740</td>\n",
       "    </tr>\n",
       "    <tr>\n",
       "      <th>SellerG</th>\n",
       "      <td>10655</td>\n",
       "      <td>268</td>\n",
       "      <td>Nelson</td>\n",
       "      <td>1135</td>\n",
       "    </tr>\n",
       "    <tr>\n",
       "      <th>Date</th>\n",
       "      <td>10655</td>\n",
       "      <td>77</td>\n",
       "      <td>28/10/2017</td>\n",
       "      <td>331</td>\n",
       "    </tr>\n",
       "    <tr>\n",
       "      <th>CouncilArea</th>\n",
       "      <td>10655</td>\n",
       "      <td>33</td>\n",
       "      <td>Boroondara City Council</td>\n",
       "      <td>919</td>\n",
       "    </tr>\n",
       "    <tr>\n",
       "      <th>Regionname</th>\n",
       "      <td>10655</td>\n",
       "      <td>8</td>\n",
       "      <td>Northern Metropolitan</td>\n",
       "      <td>3145</td>\n",
       "    </tr>\n",
       "  </tbody>\n",
       "</table>\n",
       "</div>"
      ],
      "text/plain": [
       "             count unique                      top  freq\n",
       "Suburb       10655    324                Reservoir   225\n",
       "Address      10655  10497         1/1 Clarendon St     3\n",
       "Type         10655      3                        h  7942\n",
       "Method       10655      5                        S  6740\n",
       "SellerG      10655    268                   Nelson  1135\n",
       "Date         10655     77               28/10/2017   331\n",
       "CouncilArea  10655     33  Boroondara City Council   919\n",
       "Regionname   10655      8    Northern Metropolitan  3145"
      ]
     },
     "execution_count": 46,
     "metadata": {},
     "output_type": "execute_result"
    }
   ],
   "source": [
    "data_regr.describe(include=['O']).T"
   ]
  },
  {
   "cell_type": "markdown",
   "metadata": {},
   "source": [
    "In Australia, Suburbs are contained within Regions and each Suburb as their own Postcode. Knowing this information, we can:\n",
    "+ drop the **Postcode** feature\n",
    "+ decide between **Suburb** and **Regionname** feature to use for the regression model"
   ]
  },
  {
   "cell_type": "markdown",
   "metadata": {},
   "source": [
    "**Suburb** has 324 unique values and dealing with them takes lot of hard work while **Regionname** has only 8 unique value and *One-hot encoding* would suffice. I decide to also drop the Suburb column."
   ]
  },
  {
   "cell_type": "code",
   "execution_count": 47,
   "metadata": {},
   "outputs": [],
   "source": [
    "data_regr.drop(columns=['Suburb','Postcode'], inplace=True)"
   ]
  },
  {
   "cell_type": "markdown",
   "metadata": {},
   "source": [
    "For **Date**, it is safe to say that price won't change much within a year. We will analyse this later if time allows. I will use only *year* in this feature."
   ]
  },
  {
   "cell_type": "code",
   "execution_count": 48,
   "metadata": {},
   "outputs": [],
   "source": [
    "import datetime\n",
    "def to_year(date_str):\n",
    "    return datetime.datetime.strptime(date_str.strip(),'%d/%m/%Y').year"
   ]
  },
  {
   "cell_type": "code",
   "execution_count": 49,
   "metadata": {},
   "outputs": [],
   "source": [
    "data_regr['Date'] = data_regr.Date.apply(to_year)"
   ]
  },
  {
   "cell_type": "code",
   "execution_count": 50,
   "metadata": {},
   "outputs": [
    {
     "data": {
      "text/plain": [
       "2017    5806\n",
       "2016    3606\n",
       "2018    1243\n",
       "Name: Date, dtype: int64"
      ]
     },
     "execution_count": 50,
     "metadata": {},
     "output_type": "execute_result"
    }
   ],
   "source": [
    "data_regr.Date.value_counts()"
   ]
  },
  {
   "cell_type": "markdown",
   "metadata": {},
   "source": [
    "For **Address**, this feature has too many unique value and it is not good if we use *one-hot encode* technique. We might have more interest in the *Street* and hope that the unique value wil decrease such that we can use *one-hot encode*."
   ]
  },
  {
   "cell_type": "code",
   "execution_count": 51,
   "metadata": {},
   "outputs": [],
   "source": [
    "import re\n",
    "def to_street(str):\n",
    "    return re.sub('[^A-Za-z]+', '', str)"
   ]
  },
  {
   "cell_type": "code",
   "execution_count": 52,
   "metadata": {},
   "outputs": [
    {
     "data": {
      "text/plain": [
       "5617"
      ]
     },
     "execution_count": 52,
     "metadata": {},
     "output_type": "execute_result"
    }
   ],
   "source": [
    "data_regr.Address.apply(to_street).value_counts().count()"
   ]
  },
  {
   "cell_type": "markdown",
   "metadata": {},
   "source": [
    "It still has up to 6000 unique value. For regression, this column is too diversed. Hence, I drop it."
   ]
  },
  {
   "cell_type": "code",
   "execution_count": 53,
   "metadata": {},
   "outputs": [],
   "source": [
    "data_regr.drop(columns='Address', inplace=True)"
   ]
  },
  {
   "cell_type": "code",
   "execution_count": 54,
   "metadata": {},
   "outputs": [
    {
     "data": {
      "text/plain": [
       "Nelson                  1135\n",
       "Jellis                  1019\n",
       "Barry                    907\n",
       "hockingstuart            821\n",
       "Ray                      615\n",
       "Marshall                 514\n",
       "Buxton                   485\n",
       "Biggin                   275\n",
       "Brad                     237\n",
       "Fletchers                229\n",
       "Greg                     197\n",
       "Woodards                 189\n",
       "Jas                      188\n",
       "McGrath                  184\n",
       "YPA                      183\n",
       "Sweeney                  170\n",
       "Noel                     144\n",
       "Stockdale                136\n",
       "Harcourts                136\n",
       "Raine                    124\n",
       "Gary                     117\n",
       "Miles                    115\n",
       "Hodges                   113\n",
       "RT                       111\n",
       "HAR                      101\n",
       "Village                  101\n",
       "RW                        96\n",
       "Love                      86\n",
       "Williams                  78\n",
       "O'Brien                   77\n",
       "                        ... \n",
       "Geoff                      1\n",
       "Zahn                       1\n",
       "ASL                        1\n",
       "Allens                     1\n",
       "Oak                        1\n",
       "Eric                       1\n",
       "McNaughton                 1\n",
       "McEwing                    1\n",
       "Buxton/Advantage           1\n",
       "Veitch                     1\n",
       "Sanctuary                  1\n",
       "Elite                      1\n",
       "PSP                        1\n",
       "Homes                      1\n",
       "Hayeswinckle               1\n",
       "JRW                        1\n",
       "Only                       1\n",
       "Prime                      1\n",
       "Follett                    1\n",
       "Luxton                     1\n",
       "Mitchell                   1\n",
       "Sweeney/Advantage          1\n",
       "iOne                       1\n",
       "Naison                     1\n",
       "Justin                     1\n",
       "iProperty                  1\n",
       "Leased                     1\n",
       "hockingstuart/Biggin       1\n",
       "Clairmont                  1\n",
       "Asset                      1\n",
       "Name: SellerG, Length: 268, dtype: int64"
      ]
     },
     "execution_count": 54,
     "metadata": {},
     "output_type": "execute_result"
    }
   ],
   "source": [
    "counts = data_regr.SellerG.value_counts()\n",
    "counts"
   ]
  },
  {
   "cell_type": "markdown",
   "metadata": {},
   "source": [
    "This is also a diversed feature with up to 268 unique values. But we can see that it has many value occurs only once. Let s group all of these values into 'Other' to see if we can deal with this feature."
   ]
  },
  {
   "cell_type": "code",
   "execution_count": 55,
   "metadata": {},
   "outputs": [
    {
     "name": "stderr",
     "output_type": "stream",
     "text": [
      "/Applications/Anaconda/anaconda3/lib/python3.6/site-packages/ipykernel_launcher.py:1: SettingWithCopyWarning: \n",
      "A value is trying to be set on a copy of a slice from a DataFrame\n",
      "\n",
      "See the caveats in the documentation: http://pandas.pydata.org/pandas-docs/stable/indexing.html#indexing-view-versus-copy\n",
      "  \"\"\"Entry point for launching an IPython kernel.\n",
      "/Applications/Anaconda/anaconda3/lib/python3.6/site-packages/ipykernel_launcher.py:2: SettingWithCopyWarning: \n",
      "A value is trying to be set on a copy of a slice from a DataFrame\n",
      "\n",
      "See the caveats in the documentation: http://pandas.pydata.org/pandas-docs/stable/indexing.html#indexing-view-versus-copy\n",
      "  \n",
      "/Applications/Anaconda/anaconda3/lib/python3.6/site-packages/ipykernel_launcher.py:3: SettingWithCopyWarning: \n",
      "A value is trying to be set on a copy of a slice from a DataFrame\n",
      "\n",
      "See the caveats in the documentation: http://pandas.pydata.org/pandas-docs/stable/indexing.html#indexing-view-versus-copy\n",
      "  This is separate from the ipykernel package so we can avoid doing imports until\n",
      "/Applications/Anaconda/anaconda3/lib/python3.6/site-packages/ipykernel_launcher.py:4: SettingWithCopyWarning: \n",
      "A value is trying to be set on a copy of a slice from a DataFrame\n",
      "\n",
      "See the caveats in the documentation: http://pandas.pydata.org/pandas-docs/stable/indexing.html#indexing-view-versus-copy\n",
      "  after removing the cwd from sys.path.\n",
      "/Applications/Anaconda/anaconda3/lib/python3.6/site-packages/ipykernel_launcher.py:5: SettingWithCopyWarning: \n",
      "A value is trying to be set on a copy of a slice from a DataFrame\n",
      "\n",
      "See the caveats in the documentation: http://pandas.pydata.org/pandas-docs/stable/indexing.html#indexing-view-versus-copy\n",
      "  \"\"\"\n"
     ]
    }
   ],
   "source": [
    "data_regr.SellerG[data['SellerG'].isin(counts[counts < 100].index)] = 'less than 100'\n",
    "data_regr.SellerG[data['SellerG'].isin(counts[(counts >= 100) & (counts < 200)].index)] = '100 - 200'\n",
    "data_regr.SellerG[data['SellerG'].isin(counts[(counts >= 200) & (counts < 500)].index)] = '200 - 500'\n",
    "data_regr.SellerG[data['SellerG'].isin(counts[(counts >= 500) & (counts < 1000)].index)] = '500 - 1000'\n",
    "data_regr.SellerG[data['SellerG'].isin(counts[counts > 1000].index)] = 'over 1000'"
   ]
  },
  {
   "cell_type": "code",
   "execution_count": 56,
   "metadata": {},
   "outputs": [
    {
     "data": {
      "text/plain": [
       "500 - 1000       2857\n",
       "100 - 200        2309\n",
       "over 1000        2154\n",
       "less than 100    2109\n",
       "200 - 500        1226\n",
       "Name: SellerG, dtype: int64"
      ]
     },
     "execution_count": 56,
     "metadata": {},
     "output_type": "execute_result"
    }
   ],
   "source": [
    "data_regr.SellerG.value_counts()"
   ]
  },
  {
   "cell_type": "markdown",
   "metadata": {},
   "source": [
    "As we already have the Geo information of the house in the **Regionname** , the **CouncilArea** with 33 unique values can be dropped for convenience."
   ]
  },
  {
   "cell_type": "code",
   "execution_count": 57,
   "metadata": {},
   "outputs": [],
   "source": [
    "data_regr.drop(columns='CouncilArea', inplace=True)"
   ]
  },
  {
   "cell_type": "markdown",
   "metadata": {},
   "source": [
    "Now we have finished dealing with our Categorical variables, let's take a look again at them:"
   ]
  },
  {
   "cell_type": "code",
   "execution_count": 58,
   "metadata": {},
   "outputs": [
    {
     "data": {
      "text/html": [
       "<div>\n",
       "<style scoped>\n",
       "    .dataframe tbody tr th:only-of-type {\n",
       "        vertical-align: middle;\n",
       "    }\n",
       "\n",
       "    .dataframe tbody tr th {\n",
       "        vertical-align: top;\n",
       "    }\n",
       "\n",
       "    .dataframe thead th {\n",
       "        text-align: right;\n",
       "    }\n",
       "</style>\n",
       "<table border=\"1\" class=\"dataframe\">\n",
       "  <thead>\n",
       "    <tr style=\"text-align: right;\">\n",
       "      <th></th>\n",
       "      <th>count</th>\n",
       "      <th>unique</th>\n",
       "      <th>top</th>\n",
       "      <th>freq</th>\n",
       "    </tr>\n",
       "  </thead>\n",
       "  <tbody>\n",
       "    <tr>\n",
       "      <th>Type</th>\n",
       "      <td>10655</td>\n",
       "      <td>3</td>\n",
       "      <td>h</td>\n",
       "      <td>7942</td>\n",
       "    </tr>\n",
       "    <tr>\n",
       "      <th>Method</th>\n",
       "      <td>10655</td>\n",
       "      <td>5</td>\n",
       "      <td>S</td>\n",
       "      <td>6740</td>\n",
       "    </tr>\n",
       "    <tr>\n",
       "      <th>SellerG</th>\n",
       "      <td>10655</td>\n",
       "      <td>5</td>\n",
       "      <td>500 - 1000</td>\n",
       "      <td>2857</td>\n",
       "    </tr>\n",
       "    <tr>\n",
       "      <th>Regionname</th>\n",
       "      <td>10655</td>\n",
       "      <td>8</td>\n",
       "      <td>Northern Metropolitan</td>\n",
       "      <td>3145</td>\n",
       "    </tr>\n",
       "  </tbody>\n",
       "</table>\n",
       "</div>"
      ],
      "text/plain": [
       "            count unique                    top  freq\n",
       "Type        10655      3                      h  7942\n",
       "Method      10655      5                      S  6740\n",
       "SellerG     10655      5             500 - 1000  2857\n",
       "Regionname  10655      8  Northern Metropolitan  3145"
      ]
     },
     "execution_count": 58,
     "metadata": {},
     "output_type": "execute_result"
    }
   ],
   "source": [
    "data_regr.describe(include=['O']).T"
   ]
  },
  {
   "cell_type": "code",
   "execution_count": 59,
   "metadata": {},
   "outputs": [
    {
     "data": {
      "text/html": [
       "<div>\n",
       "<style scoped>\n",
       "    .dataframe tbody tr th:only-of-type {\n",
       "        vertical-align: middle;\n",
       "    }\n",
       "\n",
       "    .dataframe tbody tr th {\n",
       "        vertical-align: top;\n",
       "    }\n",
       "\n",
       "    .dataframe thead th {\n",
       "        text-align: right;\n",
       "    }\n",
       "</style>\n",
       "<table border=\"1\" class=\"dataframe\">\n",
       "  <thead>\n",
       "    <tr style=\"text-align: right;\">\n",
       "      <th></th>\n",
       "      <th>Suburb</th>\n",
       "      <th>Address</th>\n",
       "      <th>Rooms</th>\n",
       "      <th>Type</th>\n",
       "      <th>Price</th>\n",
       "      <th>Method</th>\n",
       "      <th>SellerG</th>\n",
       "      <th>Date</th>\n",
       "      <th>Distance</th>\n",
       "      <th>Postcode</th>\n",
       "      <th>Bathroom</th>\n",
       "      <th>Car</th>\n",
       "      <th>Landsize</th>\n",
       "      <th>BuildingArea</th>\n",
       "      <th>CouncilArea</th>\n",
       "      <th>Regionname</th>\n",
       "      <th>Propertycount</th>\n",
       "    </tr>\n",
       "  </thead>\n",
       "  <tbody>\n",
       "    <tr>\n",
       "      <th>2</th>\n",
       "      <td>Abbotsford</td>\n",
       "      <td>25 Bloomburg St</td>\n",
       "      <td>2</td>\n",
       "      <td>h</td>\n",
       "      <td>1035000.0</td>\n",
       "      <td>S</td>\n",
       "      <td>Biggin</td>\n",
       "      <td>4/02/2016</td>\n",
       "      <td>2.5</td>\n",
       "      <td>3067.0</td>\n",
       "      <td>1.0</td>\n",
       "      <td>0.0</td>\n",
       "      <td>156.0</td>\n",
       "      <td>79.0</td>\n",
       "      <td>Yarra City Council</td>\n",
       "      <td>Northern Metropolitan</td>\n",
       "      <td>4019.0</td>\n",
       "    </tr>\n",
       "    <tr>\n",
       "      <th>4</th>\n",
       "      <td>Abbotsford</td>\n",
       "      <td>5 Charles St</td>\n",
       "      <td>3</td>\n",
       "      <td>h</td>\n",
       "      <td>1465000.0</td>\n",
       "      <td>SP</td>\n",
       "      <td>Biggin</td>\n",
       "      <td>4/03/2017</td>\n",
       "      <td>2.5</td>\n",
       "      <td>3067.0</td>\n",
       "      <td>2.0</td>\n",
       "      <td>0.0</td>\n",
       "      <td>134.0</td>\n",
       "      <td>150.0</td>\n",
       "      <td>Yarra City Council</td>\n",
       "      <td>Northern Metropolitan</td>\n",
       "      <td>4019.0</td>\n",
       "    </tr>\n",
       "    <tr>\n",
       "      <th>6</th>\n",
       "      <td>Abbotsford</td>\n",
       "      <td>55a Park St</td>\n",
       "      <td>4</td>\n",
       "      <td>h</td>\n",
       "      <td>1600000.0</td>\n",
       "      <td>VB</td>\n",
       "      <td>Nelson</td>\n",
       "      <td>4/06/2016</td>\n",
       "      <td>2.5</td>\n",
       "      <td>3067.0</td>\n",
       "      <td>1.0</td>\n",
       "      <td>2.0</td>\n",
       "      <td>120.0</td>\n",
       "      <td>142.0</td>\n",
       "      <td>Yarra City Council</td>\n",
       "      <td>Northern Metropolitan</td>\n",
       "      <td>4019.0</td>\n",
       "    </tr>\n",
       "    <tr>\n",
       "      <th>7</th>\n",
       "      <td>Abbotsford</td>\n",
       "      <td>16 Maugie St</td>\n",
       "      <td>4</td>\n",
       "      <td>h</td>\n",
       "      <td>NaN</td>\n",
       "      <td>SN</td>\n",
       "      <td>Nelson</td>\n",
       "      <td>6/08/2016</td>\n",
       "      <td>2.5</td>\n",
       "      <td>3067.0</td>\n",
       "      <td>2.0</td>\n",
       "      <td>2.0</td>\n",
       "      <td>400.0</td>\n",
       "      <td>220.0</td>\n",
       "      <td>Yarra City Council</td>\n",
       "      <td>Northern Metropolitan</td>\n",
       "      <td>4019.0</td>\n",
       "    </tr>\n",
       "    <tr>\n",
       "      <th>11</th>\n",
       "      <td>Abbotsford</td>\n",
       "      <td>124 Yarra St</td>\n",
       "      <td>3</td>\n",
       "      <td>h</td>\n",
       "      <td>1876000.0</td>\n",
       "      <td>S</td>\n",
       "      <td>Nelson</td>\n",
       "      <td>7/05/2016</td>\n",
       "      <td>2.5</td>\n",
       "      <td>3067.0</td>\n",
       "      <td>2.0</td>\n",
       "      <td>0.0</td>\n",
       "      <td>245.0</td>\n",
       "      <td>210.0</td>\n",
       "      <td>Yarra City Council</td>\n",
       "      <td>Northern Metropolitan</td>\n",
       "      <td>4019.0</td>\n",
       "    </tr>\n",
       "  </tbody>\n",
       "</table>\n",
       "</div>"
      ],
      "text/plain": [
       "        Suburb          Address  Rooms Type      Price Method SellerG  \\\n",
       "2   Abbotsford  25 Bloomburg St      2    h  1035000.0      S  Biggin   \n",
       "4   Abbotsford     5 Charles St      3    h  1465000.0     SP  Biggin   \n",
       "6   Abbotsford      55a Park St      4    h  1600000.0     VB  Nelson   \n",
       "7   Abbotsford     16 Maugie St      4    h        NaN     SN  Nelson   \n",
       "11  Abbotsford     124 Yarra St      3    h  1876000.0      S  Nelson   \n",
       "\n",
       "         Date  Distance  Postcode  Bathroom  Car  Landsize  BuildingArea  \\\n",
       "2   4/02/2016       2.5    3067.0       1.0  0.0     156.0          79.0   \n",
       "4   4/03/2017       2.5    3067.0       2.0  0.0     134.0         150.0   \n",
       "6   4/06/2016       2.5    3067.0       1.0  2.0     120.0         142.0   \n",
       "7   6/08/2016       2.5    3067.0       2.0  2.0     400.0         220.0   \n",
       "11  7/05/2016       2.5    3067.0       2.0  0.0     245.0         210.0   \n",
       "\n",
       "           CouncilArea             Regionname  Propertycount  \n",
       "2   Yarra City Council  Northern Metropolitan         4019.0  \n",
       "4   Yarra City Council  Northern Metropolitan         4019.0  \n",
       "6   Yarra City Council  Northern Metropolitan         4019.0  \n",
       "7   Yarra City Council  Northern Metropolitan         4019.0  \n",
       "11  Yarra City Council  Northern Metropolitan         4019.0  "
      ]
     },
     "execution_count": 59,
     "metadata": {},
     "output_type": "execute_result"
    }
   ],
   "source": [
    "data.head()"
   ]
  },
  {
   "cell_type": "code",
   "execution_count": 60,
   "metadata": {},
   "outputs": [],
   "source": [
    "data = data.reset_index().drop(columns='index') # do not use inplace=True if combine\n",
    "data_regr = data_regr.reset_index().drop(columns='index')"
   ]
  },
  {
   "cell_type": "code",
   "execution_count": 61,
   "metadata": {},
   "outputs": [
    {
     "data": {
      "text/html": [
       "<div>\n",
       "<style scoped>\n",
       "    .dataframe tbody tr th:only-of-type {\n",
       "        vertical-align: middle;\n",
       "    }\n",
       "\n",
       "    .dataframe tbody tr th {\n",
       "        vertical-align: top;\n",
       "    }\n",
       "\n",
       "    .dataframe thead th {\n",
       "        text-align: right;\n",
       "    }\n",
       "</style>\n",
       "<table border=\"1\" class=\"dataframe\">\n",
       "  <thead>\n",
       "    <tr style=\"text-align: right;\">\n",
       "      <th></th>\n",
       "      <th>Rooms</th>\n",
       "      <th>Type</th>\n",
       "      <th>Price</th>\n",
       "      <th>Method</th>\n",
       "      <th>SellerG</th>\n",
       "      <th>Date</th>\n",
       "      <th>Distance</th>\n",
       "      <th>Bathroom</th>\n",
       "      <th>Car</th>\n",
       "      <th>Landsize</th>\n",
       "      <th>BuildingArea</th>\n",
       "      <th>Regionname</th>\n",
       "      <th>Propertycount</th>\n",
       "    </tr>\n",
       "  </thead>\n",
       "  <tbody>\n",
       "    <tr>\n",
       "      <th>0</th>\n",
       "      <td>2</td>\n",
       "      <td>h</td>\n",
       "      <td>1035000.0</td>\n",
       "      <td>S</td>\n",
       "      <td>200 - 500</td>\n",
       "      <td>2016</td>\n",
       "      <td>2.5</td>\n",
       "      <td>1.0</td>\n",
       "      <td>0.0</td>\n",
       "      <td>156.0</td>\n",
       "      <td>79.0</td>\n",
       "      <td>Northern Metropolitan</td>\n",
       "      <td>4019.0</td>\n",
       "    </tr>\n",
       "    <tr>\n",
       "      <th>1</th>\n",
       "      <td>3</td>\n",
       "      <td>h</td>\n",
       "      <td>1465000.0</td>\n",
       "      <td>SP</td>\n",
       "      <td>200 - 500</td>\n",
       "      <td>2017</td>\n",
       "      <td>2.5</td>\n",
       "      <td>2.0</td>\n",
       "      <td>0.0</td>\n",
       "      <td>134.0</td>\n",
       "      <td>150.0</td>\n",
       "      <td>Northern Metropolitan</td>\n",
       "      <td>4019.0</td>\n",
       "    </tr>\n",
       "    <tr>\n",
       "      <th>2</th>\n",
       "      <td>4</td>\n",
       "      <td>h</td>\n",
       "      <td>1600000.0</td>\n",
       "      <td>VB</td>\n",
       "      <td>over 1000</td>\n",
       "      <td>2016</td>\n",
       "      <td>2.5</td>\n",
       "      <td>1.0</td>\n",
       "      <td>2.0</td>\n",
       "      <td>120.0</td>\n",
       "      <td>142.0</td>\n",
       "      <td>Northern Metropolitan</td>\n",
       "      <td>4019.0</td>\n",
       "    </tr>\n",
       "    <tr>\n",
       "      <th>3</th>\n",
       "      <td>3</td>\n",
       "      <td>h</td>\n",
       "      <td>1876000.0</td>\n",
       "      <td>S</td>\n",
       "      <td>over 1000</td>\n",
       "      <td>2016</td>\n",
       "      <td>2.5</td>\n",
       "      <td>2.0</td>\n",
       "      <td>0.0</td>\n",
       "      <td>245.0</td>\n",
       "      <td>210.0</td>\n",
       "      <td>Northern Metropolitan</td>\n",
       "      <td>4019.0</td>\n",
       "    </tr>\n",
       "    <tr>\n",
       "      <th>4</th>\n",
       "      <td>2</td>\n",
       "      <td>h</td>\n",
       "      <td>1636000.0</td>\n",
       "      <td>S</td>\n",
       "      <td>over 1000</td>\n",
       "      <td>2016</td>\n",
       "      <td>2.5</td>\n",
       "      <td>1.0</td>\n",
       "      <td>2.0</td>\n",
       "      <td>256.0</td>\n",
       "      <td>107.0</td>\n",
       "      <td>Northern Metropolitan</td>\n",
       "      <td>4019.0</td>\n",
       "    </tr>\n",
       "  </tbody>\n",
       "</table>\n",
       "</div>"
      ],
      "text/plain": [
       "   Rooms Type      Price Method    SellerG  Date  Distance  Bathroom  Car  \\\n",
       "0      2    h  1035000.0      S  200 - 500  2016       2.5       1.0  0.0   \n",
       "1      3    h  1465000.0     SP  200 - 500  2017       2.5       2.0  0.0   \n",
       "2      4    h  1600000.0     VB  over 1000  2016       2.5       1.0  2.0   \n",
       "3      3    h  1876000.0      S  over 1000  2016       2.5       2.0  0.0   \n",
       "4      2    h  1636000.0      S  over 1000  2016       2.5       1.0  2.0   \n",
       "\n",
       "   Landsize  BuildingArea             Regionname  Propertycount  \n",
       "0     156.0          79.0  Northern Metropolitan         4019.0  \n",
       "1     134.0         150.0  Northern Metropolitan         4019.0  \n",
       "2     120.0         142.0  Northern Metropolitan         4019.0  \n",
       "3     245.0         210.0  Northern Metropolitan         4019.0  \n",
       "4     256.0         107.0  Northern Metropolitan         4019.0  "
      ]
     },
     "execution_count": 61,
     "metadata": {},
     "output_type": "execute_result"
    }
   ],
   "source": [
    "data_regr.head()"
   ]
  },
  {
   "cell_type": "markdown",
   "metadata": {},
   "source": [
    "## One-hot Encode"
   ]
  },
  {
   "cell_type": "code",
   "execution_count": 62,
   "metadata": {},
   "outputs": [],
   "source": [
    "categoricals = ['Type', 'Method', 'SellerG', 'Regionname', 'Date']\n",
    "for feature in categoricals:\n",
    "    df = copy.copy(pd.get_dummies(data_regr[feature], drop_first=True))\n",
    "    data_regr = pd.concat([data_regr, df], axis=1)\n",
    "    data_regr.drop(columns=feature, inplace=True)"
   ]
  },
  {
   "cell_type": "code",
   "execution_count": 63,
   "metadata": {},
   "outputs": [
    {
     "data": {
      "text/html": [
       "<div>\n",
       "<style scoped>\n",
       "    .dataframe tbody tr th:only-of-type {\n",
       "        vertical-align: middle;\n",
       "    }\n",
       "\n",
       "    .dataframe tbody tr th {\n",
       "        vertical-align: top;\n",
       "    }\n",
       "\n",
       "    .dataframe thead th {\n",
       "        text-align: right;\n",
       "    }\n",
       "</style>\n",
       "<table border=\"1\" class=\"dataframe\">\n",
       "  <thead>\n",
       "    <tr style=\"text-align: right;\">\n",
       "      <th></th>\n",
       "      <th>Rooms</th>\n",
       "      <th>Price</th>\n",
       "      <th>Distance</th>\n",
       "      <th>Bathroom</th>\n",
       "      <th>Car</th>\n",
       "      <th>Landsize</th>\n",
       "      <th>BuildingArea</th>\n",
       "      <th>Propertycount</th>\n",
       "      <th>t</th>\n",
       "      <th>u</th>\n",
       "      <th>S</th>\n",
       "      <th>SA</th>\n",
       "      <th>SP</th>\n",
       "      <th>VB</th>\n",
       "      <th>200 - 500</th>\n",
       "      <th>500 - 1000</th>\n",
       "      <th>less than 100</th>\n",
       "      <th>over 1000</th>\n",
       "      <th>Eastern Victoria</th>\n",
       "      <th>Northern Metropolitan</th>\n",
       "      <th>Northern Victoria</th>\n",
       "      <th>South-Eastern Metropolitan</th>\n",
       "      <th>Southern Metropolitan</th>\n",
       "      <th>Western Metropolitan</th>\n",
       "      <th>Western Victoria</th>\n",
       "      <th>2017</th>\n",
       "      <th>2018</th>\n",
       "    </tr>\n",
       "  </thead>\n",
       "  <tbody>\n",
       "    <tr>\n",
       "      <th>0</th>\n",
       "      <td>2</td>\n",
       "      <td>1035000.0</td>\n",
       "      <td>2.5</td>\n",
       "      <td>1.0</td>\n",
       "      <td>0.0</td>\n",
       "      <td>156.0</td>\n",
       "      <td>79.0</td>\n",
       "      <td>4019.0</td>\n",
       "      <td>0</td>\n",
       "      <td>0</td>\n",
       "      <td>1</td>\n",
       "      <td>0</td>\n",
       "      <td>0</td>\n",
       "      <td>0</td>\n",
       "      <td>1</td>\n",
       "      <td>0</td>\n",
       "      <td>0</td>\n",
       "      <td>0</td>\n",
       "      <td>0</td>\n",
       "      <td>1</td>\n",
       "      <td>0</td>\n",
       "      <td>0</td>\n",
       "      <td>0</td>\n",
       "      <td>0</td>\n",
       "      <td>0</td>\n",
       "      <td>0</td>\n",
       "      <td>0</td>\n",
       "    </tr>\n",
       "    <tr>\n",
       "      <th>1</th>\n",
       "      <td>3</td>\n",
       "      <td>1465000.0</td>\n",
       "      <td>2.5</td>\n",
       "      <td>2.0</td>\n",
       "      <td>0.0</td>\n",
       "      <td>134.0</td>\n",
       "      <td>150.0</td>\n",
       "      <td>4019.0</td>\n",
       "      <td>0</td>\n",
       "      <td>0</td>\n",
       "      <td>0</td>\n",
       "      <td>0</td>\n",
       "      <td>1</td>\n",
       "      <td>0</td>\n",
       "      <td>1</td>\n",
       "      <td>0</td>\n",
       "      <td>0</td>\n",
       "      <td>0</td>\n",
       "      <td>0</td>\n",
       "      <td>1</td>\n",
       "      <td>0</td>\n",
       "      <td>0</td>\n",
       "      <td>0</td>\n",
       "      <td>0</td>\n",
       "      <td>0</td>\n",
       "      <td>1</td>\n",
       "      <td>0</td>\n",
       "    </tr>\n",
       "    <tr>\n",
       "      <th>2</th>\n",
       "      <td>4</td>\n",
       "      <td>1600000.0</td>\n",
       "      <td>2.5</td>\n",
       "      <td>1.0</td>\n",
       "      <td>2.0</td>\n",
       "      <td>120.0</td>\n",
       "      <td>142.0</td>\n",
       "      <td>4019.0</td>\n",
       "      <td>0</td>\n",
       "      <td>0</td>\n",
       "      <td>0</td>\n",
       "      <td>0</td>\n",
       "      <td>0</td>\n",
       "      <td>1</td>\n",
       "      <td>0</td>\n",
       "      <td>0</td>\n",
       "      <td>0</td>\n",
       "      <td>1</td>\n",
       "      <td>0</td>\n",
       "      <td>1</td>\n",
       "      <td>0</td>\n",
       "      <td>0</td>\n",
       "      <td>0</td>\n",
       "      <td>0</td>\n",
       "      <td>0</td>\n",
       "      <td>0</td>\n",
       "      <td>0</td>\n",
       "    </tr>\n",
       "    <tr>\n",
       "      <th>3</th>\n",
       "      <td>3</td>\n",
       "      <td>1876000.0</td>\n",
       "      <td>2.5</td>\n",
       "      <td>2.0</td>\n",
       "      <td>0.0</td>\n",
       "      <td>245.0</td>\n",
       "      <td>210.0</td>\n",
       "      <td>4019.0</td>\n",
       "      <td>0</td>\n",
       "      <td>0</td>\n",
       "      <td>1</td>\n",
       "      <td>0</td>\n",
       "      <td>0</td>\n",
       "      <td>0</td>\n",
       "      <td>0</td>\n",
       "      <td>0</td>\n",
       "      <td>0</td>\n",
       "      <td>1</td>\n",
       "      <td>0</td>\n",
       "      <td>1</td>\n",
       "      <td>0</td>\n",
       "      <td>0</td>\n",
       "      <td>0</td>\n",
       "      <td>0</td>\n",
       "      <td>0</td>\n",
       "      <td>0</td>\n",
       "      <td>0</td>\n",
       "    </tr>\n",
       "    <tr>\n",
       "      <th>4</th>\n",
       "      <td>2</td>\n",
       "      <td>1636000.0</td>\n",
       "      <td>2.5</td>\n",
       "      <td>1.0</td>\n",
       "      <td>2.0</td>\n",
       "      <td>256.0</td>\n",
       "      <td>107.0</td>\n",
       "      <td>4019.0</td>\n",
       "      <td>0</td>\n",
       "      <td>0</td>\n",
       "      <td>1</td>\n",
       "      <td>0</td>\n",
       "      <td>0</td>\n",
       "      <td>0</td>\n",
       "      <td>0</td>\n",
       "      <td>0</td>\n",
       "      <td>0</td>\n",
       "      <td>1</td>\n",
       "      <td>0</td>\n",
       "      <td>1</td>\n",
       "      <td>0</td>\n",
       "      <td>0</td>\n",
       "      <td>0</td>\n",
       "      <td>0</td>\n",
       "      <td>0</td>\n",
       "      <td>0</td>\n",
       "      <td>0</td>\n",
       "    </tr>\n",
       "  </tbody>\n",
       "</table>\n",
       "</div>"
      ],
      "text/plain": [
       "   Rooms      Price  Distance  Bathroom  Car  Landsize  BuildingArea  \\\n",
       "0      2  1035000.0       2.5       1.0  0.0     156.0          79.0   \n",
       "1      3  1465000.0       2.5       2.0  0.0     134.0         150.0   \n",
       "2      4  1600000.0       2.5       1.0  2.0     120.0         142.0   \n",
       "3      3  1876000.0       2.5       2.0  0.0     245.0         210.0   \n",
       "4      2  1636000.0       2.5       1.0  2.0     256.0         107.0   \n",
       "\n",
       "   Propertycount  t  u  S  SA  SP  VB  200 - 500  500 - 1000  less than 100  \\\n",
       "0         4019.0  0  0  1   0   0   0          1           0              0   \n",
       "1         4019.0  0  0  0   0   1   0          1           0              0   \n",
       "2         4019.0  0  0  0   0   0   1          0           0              0   \n",
       "3         4019.0  0  0  1   0   0   0          0           0              0   \n",
       "4         4019.0  0  0  1   0   0   0          0           0              0   \n",
       "\n",
       "   over 1000  Eastern Victoria  Northern Metropolitan  Northern Victoria  \\\n",
       "0          0                 0                      1                  0   \n",
       "1          0                 0                      1                  0   \n",
       "2          1                 0                      1                  0   \n",
       "3          1                 0                      1                  0   \n",
       "4          1                 0                      1                  0   \n",
       "\n",
       "   South-Eastern Metropolitan  Southern Metropolitan  Western Metropolitan  \\\n",
       "0                           0                      0                     0   \n",
       "1                           0                      0                     0   \n",
       "2                           0                      0                     0   \n",
       "3                           0                      0                     0   \n",
       "4                           0                      0                     0   \n",
       "\n",
       "   Western Victoria  2017  2018  \n",
       "0                 0     0     0  \n",
       "1                 0     1     0  \n",
       "2                 0     0     0  \n",
       "3                 0     0     0  \n",
       "4                 0     0     0  "
      ]
     },
     "execution_count": 63,
     "metadata": {},
     "output_type": "execute_result"
    }
   ],
   "source": [
    "data_regr.head()"
   ]
  },
  {
   "cell_type": "markdown",
   "metadata": {},
   "source": [
    "Noted that in this case we only take k-1 dummies to reduce the number of dimensions."
   ]
  },
  {
   "cell_type": "code",
   "execution_count": 64,
   "metadata": {},
   "outputs": [
    {
     "data": {
      "text/plain": [
       "(10655, 27)"
      ]
     },
     "execution_count": 64,
     "metadata": {},
     "output_type": "execute_result"
    }
   ],
   "source": [
    "data_regr.shape"
   ]
  },
  {
   "cell_type": "markdown",
   "metadata": {},
   "source": [
    "## Linear Regression without PCA ##"
   ]
  },
  {
   "cell_type": "markdown",
   "metadata": {},
   "source": [
    "### Hold out ###"
   ]
  },
  {
   "cell_type": "code",
   "execution_count": 65,
   "metadata": {},
   "outputs": [],
   "source": [
    "model_HO = linear_model.LinearRegression()"
   ]
  },
  {
   "cell_type": "code",
   "execution_count": 66,
   "metadata": {},
   "outputs": [],
   "source": [
    "train, test = train_test_split(data_regr, test_size = 0.2, random_state=512)"
   ]
  },
  {
   "cell_type": "code",
   "execution_count": 67,
   "metadata": {},
   "outputs": [
    {
     "data": {
      "text/plain": [
       "(8524, 27)"
      ]
     },
     "execution_count": 67,
     "metadata": {},
     "output_type": "execute_result"
    }
   ],
   "source": [
    "train.shape"
   ]
  },
  {
   "cell_type": "code",
   "execution_count": 68,
   "metadata": {},
   "outputs": [
    {
     "data": {
      "text/plain": [
       "(2131, 27)"
      ]
     },
     "execution_count": 68,
     "metadata": {},
     "output_type": "execute_result"
    }
   ],
   "source": [
    "test.shape"
   ]
  },
  {
   "cell_type": "code",
   "execution_count": 69,
   "metadata": {},
   "outputs": [],
   "source": [
    "X_train = train.loc[:, data_regr.columns != 'Price']\n",
    "y_train = train.Price\n",
    "\n",
    "X_test = test.loc[:, data_regr.columns != 'Price']\n",
    "y_test = test.Price"
   ]
  },
  {
   "cell_type": "code",
   "execution_count": 70,
   "metadata": {},
   "outputs": [
    {
     "data": {
      "text/plain": [
       "LinearRegression(copy_X=True, fit_intercept=True, n_jobs=1, normalize=False)"
      ]
     },
     "execution_count": 70,
     "metadata": {},
     "output_type": "execute_result"
    }
   ],
   "source": [
    "model_HO.fit(X_train.values, y_train.values)"
   ]
  },
  {
   "cell_type": "code",
   "execution_count": 71,
   "metadata": {},
   "outputs": [
    {
     "data": {
      "text/plain": [
       "176656210165.35916"
      ]
     },
     "execution_count": 71,
     "metadata": {},
     "output_type": "execute_result"
    }
   ],
   "source": [
    "predict_train = model_HO.predict(X_train.values)\n",
    "mean_squared_error(y_train, predict_train)"
   ]
  },
  {
   "cell_type": "code",
   "execution_count": 72,
   "metadata": {},
   "outputs": [
    {
     "data": {
      "text/plain": [
       "181721162631.379"
      ]
     },
     "execution_count": 72,
     "metadata": {},
     "output_type": "execute_result"
    }
   ],
   "source": [
    "predict_test = model_HO.predict(X_test.values)\n",
    "mean_squared_error(y_test, predict_test)"
   ]
  },
  {
   "cell_type": "code",
   "execution_count": 73,
   "metadata": {},
   "outputs": [
    {
     "data": {
      "image/png": "[encoded data removed]",
      "text/plain": [
       "<Figure size 432x288 with 1 Axes>"
      ]
     },
     "metadata": {},
     "output_type": "display_data"
    }
   ],
   "source": [
    "fig, ax = plt.subplots()\n",
    "ax.scatter(y_test, predict_test)\n",
    "ax.plot([y_test.min(), y_test.max()], [y_test.min(), y_test.max()], 'k--', lw=4)\n",
    "ax.set_xlabel('Measured')\n",
    "ax.set_ylabel('Predicted')\n",
    "plt.show()"
   ]
  },
  {
   "cell_type": "markdown",
   "metadata": {},
   "source": [
    "### Cross validation ###"
   ]
  },
  {
   "cell_type": "code",
   "execution_count": 74,
   "metadata": {},
   "outputs": [],
   "source": [
    "model_CV = linear_model.LinearRegression()"
   ]
  },
  {
   "cell_type": "code",
   "execution_count": 75,
   "metadata": {},
   "outputs": [
    {
     "data": {
      "image/png": "[encoded data removed]",
      "text/plain": [
       "<Figure size 432x288 with 1 Axes>"
      ]
     },
     "metadata": {},
     "output_type": "display_data"
    }
   ],
   "source": [
    "y = data_regr.Price\n",
    "X = data_regr.loc[:, data_regr.columns != 'Price']\n",
    "predicted = cross_val_predict(model_CV, X.values, y.values, cv=5)\n",
    "\n",
    "fig, ax = plt.subplots()\n",
    "ax.scatter(y, predicted)\n",
    "ax.plot([y.min(), y.max()], [y.min(), y.max()], 'k--', lw=4)\n",
    "ax.set_xlabel('Measured')\n",
    "ax.set_ylabel('Predicted')\n",
    "plt.show()"
   ]
  },
  {
   "cell_type": "code",
   "execution_count": 76,
   "metadata": {},
   "outputs": [
    {
     "data": {
      "text/plain": [
       "184196822271.70773"
      ]
     },
     "execution_count": 76,
     "metadata": {},
     "output_type": "execute_result"
    }
   ],
   "source": [
    "mean_squared_error(y.values, predicted)"
   ]
  },
  {
   "cell_type": "markdown",
   "metadata": {},
   "source": [
    "According to the graph and the high value, this model does not perform well. It is possible that the model is too simple for this problem."
   ]
  },
  {
   "cell_type": "markdown",
   "metadata": {},
   "source": [
    "## Linear Regression with PCA ##"
   ]
  },
  {
   "cell_type": "code",
   "execution_count": 77,
   "metadata": {},
   "outputs": [],
   "source": [
    "from sklearn.decomposition import PCA"
   ]
  },
  {
   "cell_type": "code",
   "execution_count": 78,
   "metadata": {},
   "outputs": [],
   "source": [
    "pca = PCA(n_components=10)"
   ]
  },
  {
   "cell_type": "code",
   "execution_count": 79,
   "metadata": {},
   "outputs": [],
   "source": [
    "X_new = pd.DataFrame(pca.fit_transform(X.values))"
   ]
  },
  {
   "cell_type": "markdown",
   "metadata": {},
   "source": [
    "### Hold out ###"
   ]
  },
  {
   "cell_type": "code",
   "execution_count": 80,
   "metadata": {},
   "outputs": [],
   "source": [
    "model_HO_PCA = linear_model.LinearRegression()"
   ]
  },
  {
   "cell_type": "code",
   "execution_count": 81,
   "metadata": {},
   "outputs": [],
   "source": [
    "dataPCA = pd.concat([X_new, y], axis=1)"
   ]
  },
  {
   "cell_type": "code",
   "execution_count": 82,
   "metadata": {},
   "outputs": [],
   "source": [
    "train, test = train_test_split(dataPCA, test_size = 0.2, random_state=512)"
   ]
  },
  {
   "cell_type": "code",
   "execution_count": 83,
   "metadata": {},
   "outputs": [],
   "source": [
    "X_train = train.loc[:, train.columns != 'Price']\n",
    "y_train = train.Price\n",
    "\n",
    "X_test = test.loc[:, test.columns != 'Price']\n",
    "y_test = test.Price"
   ]
  },
  {
   "cell_type": "code",
   "execution_count": 84,
   "metadata": {},
   "outputs": [
    {
     "data": {
      "text/plain": [
       "LinearRegression(copy_X=True, fit_intercept=True, n_jobs=1, normalize=False)"
      ]
     },
     "execution_count": 84,
     "metadata": {},
     "output_type": "execute_result"
    }
   ],
   "source": [
    "model_HO_PCA.fit(X_train.values, y_train.values)"
   ]
  },
  {
   "cell_type": "code",
   "execution_count": 85,
   "metadata": {},
   "outputs": [
    {
     "data": {
      "text/plain": [
       "230620974560.76703"
      ]
     },
     "execution_count": 85,
     "metadata": {},
     "output_type": "execute_result"
    }
   ],
   "source": [
    "predict_train = model_HO_PCA.predict(X_train.values)\n",
    "mean_squared_error(y_train, predict_train)"
   ]
  },
  {
   "cell_type": "code",
   "execution_count": 86,
   "metadata": {},
   "outputs": [
    {
     "data": {
      "text/plain": [
       "230666331328.5386"
      ]
     },
     "execution_count": 86,
     "metadata": {},
     "output_type": "execute_result"
    }
   ],
   "source": [
    "predict_test = model_HO_PCA.predict(X_test.values)\n",
    "mean_squared_error(y_test, predict_test)"
   ]
  },
  {
   "cell_type": "code",
   "execution_count": 87,
   "metadata": {},
   "outputs": [
    {
     "data": {
      "image/png": "[encoded data removed]",
      "text/plain": [
       "<Figure size 432x288 with 1 Axes>"
      ]
     },
     "metadata": {},
     "output_type": "display_data"
    }
   ],
   "source": [
    "fig, ax = plt.subplots()\n",
    "ax.scatter(y_test, predict_test)\n",
    "ax.plot([y_test.min(), y_test.max()], [y_test.min(), y_test.max()], 'k--', lw=4)\n",
    "ax.set_xlabel('Measured')\n",
    "ax.set_ylabel('Predicted')\n",
    "plt.show()"
   ]
  },
  {
   "cell_type": "markdown",
   "metadata": {},
   "source": [
    "### Cross validation ###"
   ]
  },
  {
   "cell_type": "code",
   "execution_count": 88,
   "metadata": {},
   "outputs": [],
   "source": [
    "model_CV_PCA = linear_model.LinearRegression()"
   ]
  },
  {
   "cell_type": "code",
   "execution_count": 89,
   "metadata": {},
   "outputs": [
    {
     "data": {
      "image/png": "[encoded data removed]",
      "text/plain": [
       "<Figure size 432x288 with 1 Axes>"
      ]
     },
     "metadata": {},
     "output_type": "display_data"
    }
   ],
   "source": [
    "y = dataPCA.Price\n",
    "X = dataPCA.loc[:, dataPCA.columns != 'Price']\n",
    "predicted = cross_val_predict(model_CV_PCA, X.values, y.values, cv=5)\n",
    "\n",
    "fig, ax = plt.subplots()\n",
    "ax.scatter(y, predicted)\n",
    "ax.plot([y.min(), y.max()], [y.min(), y.max()], 'k--', lw=4)\n",
    "ax.set_xlabel('Measured')\n",
    "ax.set_ylabel('Predicted')\n",
    "plt.show()"
   ]
  },
  {
   "cell_type": "code",
   "execution_count": 90,
   "metadata": {},
   "outputs": [
    {
     "data": {
      "text/plain": [
       "240254359958.1386"
      ]
     },
     "execution_count": 90,
     "metadata": {},
     "output_type": "execute_result"
    }
   ],
   "source": [
    "mean_squared_error(y.values, predicted)"
   ]
  },
  {
   "cell_type": "markdown",
   "metadata": {},
   "source": [
    "As expected, the original model with all of the data does not perform as very well, the model with PCA couldnt perform better."
   ]
  },
  {
   "cell_type": "code",
   "execution_count": 91,
   "metadata": {},
   "outputs": [],
   "source": [
    "X = data_regr.loc[:, data_regr.columns != 'Price']\n",
    "y = data_regr.Price"
   ]
  },
  {
   "cell_type": "code",
   "execution_count": 92,
   "metadata": {},
   "outputs": [],
   "source": [
    "model = linear_model.LinearRegression()"
   ]
  },
  {
   "cell_type": "code",
   "execution_count": 93,
   "metadata": {},
   "outputs": [
    {
     "data": {
      "text/plain": [
       "LinearRegression(copy_X=True, fit_intercept=True, n_jobs=1, normalize=False)"
      ]
     },
     "execution_count": 93,
     "metadata": {},
     "output_type": "execute_result"
    }
   ],
   "source": [
    "model.fit(X.values, y.values)"
   ]
  },
  {
   "cell_type": "code",
   "execution_count": 94,
   "metadata": {},
   "outputs": [],
   "source": [
    "predict = model.predict(X.values)"
   ]
  },
  {
   "cell_type": "code",
   "execution_count": 95,
   "metadata": {},
   "outputs": [
    {
     "data": {
      "text/plain": [
       "<matplotlib.axes._subplots.AxesSubplot at 0x1a1cbcb278>"
      ]
     },
     "execution_count": 95,
     "metadata": {},
     "output_type": "execute_result"
    },
    {
     "data": {
      "image/png": "[encoded data removed]",
      "text/plain": [
       "<Figure size 432x288 with 1 Axes>"
      ]
     },
     "metadata": {},
     "output_type": "display_data"
    }
   ],
   "source": [
    "sns.residplot(predict, y.values)"
   ]
  },
  {
   "cell_type": "markdown",
   "metadata": {},
   "source": [
    "the Residual Plot shows that this model is not a good fit for the problem."
   ]
  },
  {
   "cell_type": "code",
   "execution_count": 96,
   "metadata": {},
   "outputs": [],
   "source": [
    "a = (y.values - predict)"
   ]
  },
  {
   "cell_type": "code",
   "execution_count": 97,
   "metadata": {},
   "outputs": [
    {
     "data": {
      "image/png": "[encoded data removed]",
      "text/plain": [
       "<Figure size 432x288 with 1 Axes>"
      ]
     },
     "metadata": {},
     "output_type": "display_data"
    }
   ],
   "source": [
    "fig, ax = plt.subplots()\n",
    "ax.scatter(data_regr.Rooms.values, a)\n",
    "ax.set_xlabel('Rooms')\n",
    "ax.set_ylabel('Residual')\n",
    "plt.show()"
   ]
  },
  {
   "cell_type": "code",
   "execution_count": 98,
   "metadata": {},
   "outputs": [
    {
     "data": {
      "image/png": "[encoded data removed]",
      "text/plain": [
       "<Figure size 432x288 with 1 Axes>"
      ]
     },
     "metadata": {},
     "output_type": "display_data"
    }
   ],
   "source": [
    "fig, ax = plt.subplots()\n",
    "ax.scatter(data_regr.Distance.values, a)\n",
    "ax.set_xlabel('Distance')\n",
    "ax.set_ylabel('Residual')\n",
    "plt.show()"
   ]
  },
  {
   "cell_type": "code",
   "execution_count": 99,
   "metadata": {},
   "outputs": [
    {
     "data": {
      "image/png": "[encoded data removed]",
      "text/plain": [
       "<Figure size 432x288 with 1 Axes>"
      ]
     },
     "metadata": {},
     "output_type": "display_data"
    }
   ],
   "source": [
    "fig, ax = plt.subplots()\n",
    "ax.scatter(data_regr.Bathroom.values, a)\n",
    "ax.set_xlabel('Bathroom')\n",
    "ax.set_ylabel('Residual')\n",
    "plt.show()"
   ]
  },
  {
   "cell_type": "code",
   "execution_count": 100,
   "metadata": {},
   "outputs": [
    {
     "data": {
      "image/png": "[encoded data removed]",
      "text/plain": [
       "<Figure size 432x288 with 1 Axes>"
      ]
     },
     "metadata": {},
     "output_type": "display_data"
    }
   ],
   "source": [
    "fig, ax = plt.subplots()\n",
    "ax.scatter(data_regr.Car.values, a)\n",
    "ax.set_xlabel('Car')\n",
    "ax.set_ylabel('Residual')\n",
    "plt.show()"
   ]
  },
  {
   "cell_type": "code",
   "execution_count": 101,
   "metadata": {},
   "outputs": [
    {
     "data": {
      "image/png": "[encoded data removed]",
      "text/plain": [
       "<Figure size 432x288 with 1 Axes>"
      ]
     },
     "metadata": {},
     "output_type": "display_data"
    }
   ],
   "source": [
    "fig, ax = plt.subplots()\n",
    "ax.scatter(data_regr.Landsize.values, a)\n",
    "ax.set_xlabel('Landsize')\n",
    "ax.set_ylabel('Residual')\n",
    "plt.show()"
   ]
  },
  {
   "cell_type": "code",
   "execution_count": 102,
   "metadata": {},
   "outputs": [
    {
     "data": {
      "image/png": "[encoded data removed]",
      "text/plain": [
       "<Figure size 432x288 with 1 Axes>"
      ]
     },
     "metadata": {},
     "output_type": "display_data"
    }
   ],
   "source": [
    "fig, ax = plt.subplots()\n",
    "ax.scatter(data_regr.BuildingArea.values, a)\n",
    "ax.set_xlabel('BuildingArea')\n",
    "ax.set_ylabel('Residual')\n",
    "plt.show()"
   ]
  },
  {
   "cell_type": "code",
   "execution_count": 103,
   "metadata": {},
   "outputs": [
    {
     "data": {
      "image/png": "[encoded data removed]",
      "text/plain": [
       "<Figure size 432x288 with 1 Axes>"
      ]
     },
     "metadata": {},
     "output_type": "display_data"
    }
   ],
   "source": [
    "fig, ax = plt.subplots()\n",
    "ax.scatter(data_regr.Propertycount.values, a)\n",
    "ax.set_xlabel('Propertycount')\n",
    "ax.set_ylabel('Residual')\n",
    "plt.show()"
   ]
  },
  {
   "cell_type": "code",
   "execution_count": null,
   "metadata": {},
   "outputs": [],
   "source": []
  }
 ],
 "metadata": {
  "kernelspec": {
   "display_name": "Python 3",
   "language": "python",
   "name": "python3"
  },
  "language_info": {
   "codemirror_mode": {
    "name": "ipython",
    "version": 3
   },
   "file_extension": ".py",
   "mimetype": "text/x-python",
   "name": "python",
   "nbconvert_exporter": "python",
   "pygments_lexer": "ipython3",
   "version": "3.6.4"
  }
 },
 "nbformat": 4,
 "nbformat_minor": 2
}
